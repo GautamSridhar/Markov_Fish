{
 "cells": [
  {
   "cell_type": "code",
   "execution_count": null,
   "id": "individual-premium",
   "metadata": {},
   "outputs": [],
   "source": [
    "#data format library\n",
    "import h5py\n",
    "\n",
    "#numpy\n",
    "import numpy as np\n",
    "import pandas as pd\n",
    "import numpy.ma as ma\n",
    "%matplotlib inline\n",
    "import matplotlib\n",
    "import matplotlib.pyplot as plt\n",
    "import matplotlib as mpl\n",
    "new_rc_params = {'text.usetex': False,\n",
    "\"svg.fonttype\": 'none'\n",
    "}\n",
    "mpl.rcParams.update(new_rc_params)\n",
    "plt.rcParams[\"font.family\"] = \"Times New Roman\"\n",
    "# %matplotlib notebook\n",
    "import sys\n",
    "sys.path.append('/Users/gautam.sridhar/Documents/Repos/Markov_Fish/utils/')\n",
    "import matplotlib.colors as pltcolors\n",
    "import os\n",
    "import copy\n",
    "import clustering_methods as cl\n",
    "import operator_calculations as op_calc\n",
    "import delay_embedding as embed\n",
    "import stats\n",
    "import time\n",
    "\n",
    "np.random.seed(42)\n",
    "\n",
    "import importlib\n",
    "importlib.reload(op_calc)"
   ]
  },
  {
   "cell_type": "code",
   "execution_count": null,
   "id": "handy-knowing",
   "metadata": {},
   "outputs": [],
   "source": [
    "path_to_filtered_data = '/Users/gautam.sridhar/Documents/Repos/ZebraBouts/Datasets/Full_Data/'\n",
    "f = h5py.File(path_to_filtered_data+'filtered_jmpool_ex5_kin.h5','r')\n",
    "lengths = np.array(f['MetaData/lengths_data'],dtype=int)\n",
    "bouttypes= ma.array(f['bout_types'], dtype=int)\n",
    "# stims = ma.array(f['stims'])\n",
    "# ecs = ma.array(f['eye_convergence'])\n",
    "\n",
    "##shapes are n_fish, max_n_bouts,dim of variable\n",
    "\n",
    "bouttypes_allcond= ma.array(f['bout_types'])\n",
    "stims_allcond = ma.array(f['stims'])\n",
    "ecs_allcond = ma.array(f['eye_convergence'])\n",
    "time_Bout_allcond = ma.array(f['times_bouts']) #raw times bouts\n",
    "\n",
    "#shapes are n_fish, max_n_bouts,dim of variable\n",
    "X_head_allcond = ma.array(f['head_pos'])\n",
    "phi_smooth_allcond = ma.array(f['orientation_smooth'])\n",
    "speeds_head_allcond = ma.array(f['speed_head'])\n",
    "f.close()"
   ]
  },
  {
   "cell_type": "code",
   "execution_count": null,
   "id": "blocked-division",
   "metadata": {},
   "outputs": [],
   "source": [
    "time_Bout_allcond[time_Bout_allcond == 0] = ma.masked\n",
    "X_head_allcond[X_head_allcond == 0] = ma.masked\n",
    "phi_smooth_allcond[phi_smooth_allcond == 0] = ma.masked\n",
    "speeds_head_allcond[phi_smooth_allcond.mask] = ma.masked\n",
    "bouttypes_allcond[bouttypes_allcond == 15] = ma.masked\n",
    "ecs_allcond[ecs_allcond == 100] = ma.masked"
   ]
  },
  {
   "cell_type": "code",
   "execution_count": null,
   "id": "molecular-beast",
   "metadata": {},
   "outputs": [],
   "source": [
    "condition_labels = ['Light (5x5cm)','Light (1x5cm)','Looming(5x5cm)','ChasingDot coarsespeeds(5x5cm)','ChasingDot finespeeds(5x5cm)','Dark_Transitions(5x5cm)',\n",
    "                    'Phototaxis','Optomotor Response (1x5cm)','Optokinetic Response (5x5cm)','Dark (5x5cm)','3 min Light<->Dark(5x5cm)',\n",
    "                    'Prey Capture Param. (2.5x2.5cm)','Prey Capture Param. RW. (2.5x2.5cm)',\n",
    "                    'Prey Capture Rot.(2.5x2.5cm)','Prey capture Rot. RW. (2.5x2.5cm)','Light RW. (2.5x2.5cm)']\n",
    "\n",
    "condition_recs = np.array([[515,525],[160,172],[87,148],[43,60],[22,43],[60,87],\n",
    "                           [202,232],[148,160],[172,202],[505,515],[0,22],\n",
    "                           [232,301],[347,445],[301,316],[316,347],\n",
    "                           [445,505]])"
   ]
  },
  {
   "cell_type": "code",
   "execution_count": null,
   "id": "negative-monkey",
   "metadata": {},
   "outputs": [],
   "source": [
    "conditions = np.zeros((np.max(condition_recs),2),dtype='object')\n",
    "for k in range(len(condition_recs)):\n",
    "    t0,tf = condition_recs[k]\n",
    "    conditions[t0:tf,0] = np.arange(t0,tf)\n",
    "    conditions[t0:tf,1] = [condition_labels[k] for t in range(t0,tf)]"
   ]
  },
  {
   "cell_type": "code",
   "execution_count": null,
   "id": "portable-modem",
   "metadata": {},
   "outputs": [],
   "source": [
    "recs_remove = np.load('/Users/gautam.sridhar/Documents/Repos/ZebraBouts/Datasets/Full_Data/recs_remove.npy')"
   ]
  },
  {
   "cell_type": "code",
   "execution_count": null,
   "id": "humanitarian-tobago",
   "metadata": {},
   "outputs": [],
   "source": [
    "recs_remove = np.hstack([recs_remove, np.arange(22,60)])"
   ]
  },
  {
   "cell_type": "code",
   "execution_count": null,
   "id": "rental-metro",
   "metadata": {},
   "outputs": [],
   "source": [
    "print(recs_remove)"
   ]
  },
  {
   "cell_type": "code",
   "execution_count": null,
   "id": "several-artist",
   "metadata": {},
   "outputs": [],
   "source": [
    "## Load symbolic sequences\n",
    "\n",
    "path_to_filtered_data = '/Users/gautam.sridhar/Documents/Repos/Markov_Fish/Datasets/JM_Data/'\n",
    "f = h5py.File(path_to_filtered_data + 'pool_ex8_PCs/kmeans_labels_K5_N1200_s8684.h5')\n",
    "lengths_all = np.array(f['MetaData/lengths_data'], dtype=int)\n",
    "labels_fish_allrec = ma.array(f['labels_fish'],dtype=int)\n",
    "state_trajs = ma.array(f['state_trajs'])\n",
    "f.close()\n",
    "\n",
    "# lengths_all = np.load('/Users/gautam.sridhar/Documents/Repos/ZebraBouts/Datasets/Full_Data/lengths_ex2_recordings.npy')\n",
    "# lengths_all = lengths"
   ]
  },
  {
   "cell_type": "code",
   "execution_count": null,
   "id": "mature-waterproof",
   "metadata": {},
   "outputs": [],
   "source": [
    "# recs_ = np.asarray(conditions[:,0], dtype=int)\n",
    "\n",
    "to_mask = 1300\n",
    "\n",
    "# maxL = np.max(lengths_all[recs_])\n",
    "maxL = np.max(lengths_all)\n",
    "\n",
    "labels_fish_allrec[labels_fish_allrec == to_mask] = ma.masked\n",
    "\n",
    "# labels_fishrec = to_mask * ma.ones((len(recs_), maxL))\n",
    "# labels_fishrec = labels_fish_allrec[recs_,:maxL+2]\n",
    "# labels_fishrec = np.delete(labels_fishrec,4,0)\n",
    "\n",
    "# labels_fishrec[labels_fishrec == to_mask] = ma.masked\n",
    "labels_fish = labels_fish_allrec\n",
    "\n",
    "# lengths_rem = np.delete(lengths_all, recs_remove)\n",
    "lengths_rem = lengths_all"
   ]
  },
  {
   "cell_type": "code",
   "execution_count": null,
   "id": "presidential-repair",
   "metadata": {},
   "outputs": [],
   "source": [
    "## Select Dataset\n",
    "np.random.seed(42)\n",
    "seeds = np.random.randint(0,10000,100)\n",
    "delay_range = np.arange(1,20,1)\n",
    "dt = 1\n",
    "div= 463\n",
    "n_modes=50\n",
    "labels_all= ma.concatenate(labels_fish,axis=0)\n",
    "print(labels_fish.shape)"
   ]
  },
  {
   "cell_type": "code",
   "execution_count": null,
   "id": "polished-jesus",
   "metadata": {},
   "outputs": [],
   "source": [
    "def sampler(labels_fish, conditions ,lengths_all, window_size, to_mask, s):\n",
    "    np.random.seed(s)\n",
    "    condition_labels = ['Light (5x5cm)','Light (1x5cm)','Looming(5x5cm)','Dark_Transitions(5x5cm)',\n",
    "                    'Phototaxis','Optomotor Response (1x5cm)','Optokinetic Response (5x5cm)','Dark (5x5cm)','3 min Light<->Dark(5x5cm)',\n",
    "                    'Prey Capture Param. (2.5x2.5cm)','Prey Capture Param. RW. (2.5x2.5cm)',\n",
    "                    'Prey Capture Rot.(2.5x2.5cm)','Prey capture Rot. RW. (2.5x2.5cm)','Light RW. (2.5x2.5cm)']\n",
    "    sampled_labels = []\n",
    "    for cond in condition_labels:\n",
    "        cond_recs = np.where(conditions[:,1] == cond)[0]\n",
    "        samples_ = to_mask*ma.ones((window_size+4,), dtype=int)\n",
    "        labels_cond = labels_fish[cond_recs]\n",
    "        rec_list = []\n",
    "        for i, l in enumerate(lengths_all[cond_recs]):\n",
    "            labels_cond[i,l-2:l] = ma.masked\n",
    "            rec_list.append(labels_cond[i,:l])\n",
    "        \n",
    "        labels_ = ma.hstack(rec_list)\n",
    "        start_pos = np.random.randint(0, len(labels_)-window_size)\n",
    "        \n",
    "        samples_[2:-2] = labels_[start_pos:start_pos+window_size]\n",
    "        samples_[samples_==to_mask] = ma.masked\n",
    "        sampled_labels.append(samples_)\n",
    "    return sampled_labels"
   ]
  },
  {
   "cell_type": "code",
   "execution_count": null,
   "id": "northern-district",
   "metadata": {},
   "outputs": [],
   "source": [
    "## Calculate implied timescales by sampling similar number of bouts from each condition\n",
    "\n",
    "ts_traj_delay = ma.zeros((seeds.shape[0],len(delay_range),n_modes))\n",
    "eigvals_shuffle = ma.zeros((seeds.shape[0],n_modes-1))\n",
    "\n",
    "window_size = 7500\n",
    "\n",
    "for i,s in enumerate(seeds):\n",
    "    print(s)\n",
    "    labels_bootstrap = sampler(labels_fish, conditions,lengths_rem, window_size, to_mask, s)\n",
    "    labels_ = ma.hstack(labels_bootstrap)\n",
    "    nstates = ma.max(labels_) + 1\n",
    "    segments = op_calc.segment_maskedArray(labels_)\n",
    "\n",
    "    dtrajs = np.asarray([labels_[t0:tf] for t0,tf in segments])\n",
    "    if ma.count(labels_)>20:\n",
    "        for kd,delay in enumerate(delay_range):\n",
    "            ts_traj_delay[i,kd,:] = op_calc.implied_tscale_shuffle(dtrajs,nstates,delay,dt,n_modes,reversible=True)\n",
    "#     labels_shuffle = labels_[np.random.choice(np.arange(len(labels_)),len(labels_))]\n",
    "#     P_shuffle = op_calc.transition_matrix(labels_shuffle,1)\n",
    "    P_shuffle = op_calc.transition_matrix_shuffle(dtrajs,1)\n",
    "    R_shuffle = op_calc.get_reversible_transition_matrix(P_shuffle)\n",
    "    eigvals,eigvecs = op_calc.sorted_spectrum(R_shuffle,k=n_modes)\n",
    "    sorted_indices = np.argsort(eigvals.real)[::-1]\n",
    "    eigvals = eigvals[sorted_indices][1:].real\n",
    "    eigvals[np.abs(eigvals-1)<1e-12] = np.nan\n",
    "    eigvals[eigvals<1e-12] = np.nan\n",
    "    eigvals_shuffle[i,:] = eigvals"
   ]
  },
  {
   "cell_type": "code",
   "execution_count": null,
   "id": "plain-hamburg",
   "metadata": {},
   "outputs": [],
   "source": [
    "ts_traj_delay[ts_traj_delay==0] = ma.masked\n",
    "eigvals_shuffle[eigvals_shuffle == 0] = ma.masked \n",
    "\n",
    "## Use if sampling similar number of bouts from each condition\n",
    "\n",
    "ts_traj_delay_total = ts_traj_delay\n",
    "eigvals_shuffle_total = eigvals_shuffle\n",
    "\n",
    "print(ts_traj_delay_total.shape)\n",
    "print(eigvals_shuffle_total.shape)"
   ]
  },
  {
   "cell_type": "code",
   "execution_count": null,
   "id": "tired-outdoors",
   "metadata": {},
   "outputs": [],
   "source": [
    "# Fig 2a \n",
    "fig, ax = plt.subplots(1,1,figsize=(10,10))\n",
    "\n",
    "tau = 3\n",
    "\n",
    "ts_traj_delay1 = ts_traj_delay_total[:,tau-1,:]\n",
    "mean,cil,ciu=stats.bootstrap(ts_traj_delay1[:,:],median=False,n_times=1000)\n",
    "ax.scatter(np.arange(n_modes),mean,c='k', s =50)\n",
    "ax.errorbar(np.arange(n_modes), mean,[mean-cil, ciu - mean], fmt='.', capsize=7, elinewidth=3, color = 'k')\n",
    "\n",
    "mean,cil,ciu=stats.bootstrap((tscales_shuffle.T),n_times=1000)\n",
    "ax.axhline(mean[tau-1],c='k',alpha=.5,ls='--', label='Noise Floor')\n",
    "ax.axhspan(cil[tau-1],ciu[tau-1],color='k',alpha=.3)\n",
    "ax.spines['top'].set_visible(False)\n",
    "ax.spines['right'].set_visible(False)\n",
    "plt.xticks(fontsize=30)\n",
    "plt.yticks(fontsize=30)"
   ]
  },
  {
   "cell_type": "code",
   "execution_count": null,
   "id": "loved-instrument",
   "metadata": {},
   "outputs": [],
   "source": [
    "# Fig S2a - time scales for tau\n",
    "colors_ = plt.cm.Reds_r(np.linspace(0,1,50))\n",
    "\n",
    "fig, ax = plt.subplots(1,1,figsize=(10,10))\n",
    "for mode in range(n_modes):\n",
    "    mean = ma.mean(ts_traj_delay_total[:,:,mode],axis=0)\n",
    "    mean,cil,ciu=stats.bootstrap(ts_traj_delay_total[:,:,mode].squeeze(),median=False,n_times=1000)\n",
    "    ax.plot(delay_range*dt,mean,c=colors_[mode], marker='*')\n",
    "    ax.errorbar(delay_range*dt, mean,[mean-cil, ciu - mean], marker='o', capsize=4, color = colors_[mode])\n",
    "\n",
    "tscales_shuffle = np.array([-d/np.log(eigvals_shuffle_total[:,0]) for d in delay_range])\n",
    "mean,cil,ciu=stats.bootstrap((tscales_shuffle.T),n_times=1000)\n",
    "\n",
    "ax.plot(delay_range*dt,mean,c='k',alpha=.5,ls='--', label='Noise Floor')\n",
    "ax.fill_between(delay_range*dt,cil,ciu,color='k',alpha=.3)\n",
    "ax.legend(fontsize = 30)\n",
    "ax.set_xlabel(r'$\\tau$ (States)',fontsize=30)\n",
    "ax.set_ylabel(r'$t^{imp} (\\tau)$',fontsize=40)\n",
    "ax.spines['top'].set_visible(False)\n",
    "ax.spines['right'].set_visible(False)\n",
    "ax.set_xscale('log')\n",
    "ax.set_ylim(0,15)\n",
    "plt.xticks(fontsize=30)\n",
    "plt.yticks(fontsize=30)\n",
    "plt.show()"
   ]
  },
  {
   "cell_type": "code",
   "execution_count": null,
   "id": "incident-uncle",
   "metadata": {},
   "outputs": [],
   "source": [
    "P_ensemble = np.load('/Users/gautam.sridhar/Documents/Repos/ZebraBouts/Datasets/Full_Data/P_ensemble_ex8_N1200_s8684.npy')"
   ]
  },
  {
   "cell_type": "code",
   "execution_count": null,
   "id": "unique-fantasy",
   "metadata": {},
   "outputs": [],
   "source": [
    "# Fig 2a inset\n",
    "fig, ax = plt.subplots(1,1,figsize=(5,5))\n",
    "\n",
    "ax.imshow(P_ensemble, vmax = 0.003,cmap='magma')\n",
    "ax.axis('off')"
   ]
  },
  {
   "cell_type": "code",
   "execution_count": null,
   "id": "integral-needle",
   "metadata": {},
   "outputs": [],
   "source": [
    "from scipy.sparse import diags,identity,coo_matrix, csr_matrix\n",
    "P_ensemble = csr_matrix(P_ensemble)"
   ]
  },
  {
   "cell_type": "code",
   "execution_count": null,
   "id": "sapphire-prize",
   "metadata": {},
   "outputs": [],
   "source": [
    "import msmtools.estimation as msm_estimation\n",
    "delay = 3\n",
    "dt = 1\n",
    "print(delay)\n",
    "# lcs_ensemble,P_ensemble = op_calc.transition_matrix(labels_all,delay,return_connected=True)\n",
    "lcs_ensemble = msm_estimation.largest_connected_set(P_ensemble)\n",
    "inv_measure = op_calc.stationary_distribution(P_ensemble)\n",
    "final_labels = op_calc.get_connected_labels(labels_all,lcs_ensemble)\n",
    "R = op_calc.get_reversible_transition_matrix(P_ensemble)\n",
    "eigvals,eigvecs = op_calc.sorted_spectrum(R,k=10,seed=123)\n",
    "sorted_indices = np.argsort(eigvals.real)[::-1]\n",
    "eigvals = eigvals[sorted_indices][1:].real\n",
    "eigvals[np.abs(eigvals-1)<1e-12] = np.nan\n",
    "eigvals[eigvals<1e-12] = np.nan\n",
    "t_imp =  -(delay*dt)/np.log(np.abs(eigvals))\n",
    "eigfunctions = eigvecs.real/np.linalg.norm(eigvecs.real,axis=0)\n",
    "eigfunctions_traj = ma.array(eigfunctions)[final_labels,:]\n",
    "eigfunctions_traj[final_labels.mask] = ma.masked"
   ]
  },
  {
   "cell_type": "code",
   "execution_count": null,
   "id": "american-barbados",
   "metadata": {},
   "outputs": [],
   "source": [
    "# Load eigenfunctions  \n",
    "# eigfunctions = np.load('/Users/gautam.sridhar/Documents/Repos/ZebraBouts/Results/pool_ex7_PCs/eigfs_n1200.npy')\n",
    "# phi1 = eigfunctions[:,1]\n",
    "# phi2 = eigfunctions[:,2]\n",
    "# phi3 = eigfunctions[:,3]"
   ]
  },
  {
   "cell_type": "code",
   "execution_count": null,
   "id": "exclusive-marine",
   "metadata": {},
   "outputs": [],
   "source": [
    "split_locs = []\n",
    "distorted_eigfs = np.zeros((eigfunctions.shape[0], eigfunctions.shape[1]-1))\n",
    "for i in range(1,eigfunctions.shape[1]):\n",
    "    phi = eigfunctions[:,i]\n",
    "    _,_,_,split_idx,_ = op_calc.optimal_partition(phi,inv_measure,P_ensemble,return_rho=True)\n",
    "\n",
    "    sort_range = np.sort(phi)\n",
    "    neg_range = np.linspace(-1,0, len(sort_range[0:split_idx]))\n",
    "    pos_range = np.linspace(0,1,len(sort_range[split_idx:]))\n",
    "    distort_r = np.hstack([neg_range,pos_range])\n",
    "    distort = np.zeros(phi.shape)\n",
    "\n",
    "    pos = [np.where(phi == a)[0][0] for a in np.sort(phi)]\n",
    "\n",
    "    for j in range(phi.shape[0]):\n",
    "        distort[pos[j]] = distort_r[j]\n",
    "\n",
    "    distorted_eigfs[:,i-1] = distort\n",
    "    split_locs.append(split_idx)"
   ]
  },
  {
   "cell_type": "code",
   "execution_count": null,
   "id": "public-thomas",
   "metadata": {},
   "outputs": [],
   "source": [
    "phi_1 = distorted_eigfs[:,0]\n",
    "phi_2 = distorted_eigfs[:,1]"
   ]
  },
  {
   "cell_type": "code",
   "execution_count": null,
   "id": "floral-sydney",
   "metadata": {},
   "outputs": [],
   "source": [
    "distorted_trajs = ma.array(distorted_eigfs)[final_labels,:]\n",
    "distorted_trajs[final_labels.mask] = ma.masked\n",
    "\n",
    "distorted_fish = distorted_trajs.reshape(labels_fish.shape[0], labels_fish.shape[1], -1)"
   ]
  },
  {
   "cell_type": "markdown",
   "id": "apparent-paint",
   "metadata": {},
   "source": [
    "### Kinematics calculation - Fig 2b,c"
   ]
  },
  {
   "cell_type": "code",
   "execution_count": null,
   "id": "medical-mediterranean",
   "metadata": {},
   "outputs": [],
   "source": [
    "# Kinematics calculation\n",
    "\n",
    "phi_smooth_allcond = np.delete(phi_smooth_allcond, recs_remove, axis=0)\n",
    "phi_smooth_allcond[phi_smooth_allcond == 0] = ma.masked"
   ]
  },
  {
   "cell_type": "code",
   "execution_count": null,
   "id": "motivated-brake",
   "metadata": {},
   "outputs": [],
   "source": [
    "phis_all = ma.concatenate(phi_smooth_allcond,axis=0)\n",
    "delphi = (ma.abs(phis_all[1:,0] - phis_all[:-1,0]))*(180/np.pi)\n",
    "psi = ma.zeros(phis_all.shape[0])\n",
    "psi[:-1] = delphi\n",
    "psi[-1] = ma.masked"
   ]
  },
  {
   "cell_type": "code",
   "execution_count": null,
   "id": "worst-amendment",
   "metadata": {},
   "outputs": [],
   "source": [
    "K=5\n",
    "meanKphi_fish = [ma.abs(psi[:,k:k+K]).mean(axis=1) for k in range(len(psi[0])-K)]\n",
    "meanKphi_fish = ma.vstack(meanKphi_fish).T\n",
    "\n",
    "meanKphi = -1*ma.ones((psi.shape[0],psi.shape[1]))\n",
    "meanKphi[:,2:-3] = meanKphi_fish\n",
    "print(meanKphi.shape)\n",
    "\n",
    "meanKphi[meanKphi==-1] = ma.masked\n",
    "meanKphi_all = ma.hstack(meanKphi)\n",
    "phi_labels = np.asarray([ma.mean(meanKphi_all[labels_all==kl]) for kl in range(1200)])"
   ]
  },
  {
   "cell_type": "code",
   "execution_count": null,
   "id": "operating-lunch",
   "metadata": {},
   "outputs": [],
   "source": [
    "phi_labels = np.asarray([ma.mean(phis_embed[labels_all==kl]) for kl in range(1200)])"
   ]
  },
  {
   "cell_type": "code",
   "execution_count": null,
   "id": "embedded-coral",
   "metadata": {},
   "outputs": [],
   "source": [
    "## Kinetic Maps with diffusion distances\n",
    "fig, ax = plt.subplots(1,1,figsize=(12,10))\n",
    "\n",
    "im = ax.scatter(phi_1[:],phi_2[:],s=200,c=phi_labels,vmax = 1.3,vmin=0.5,alpha=1., cmap='viridis')\n",
    "fig.colorbar(im)\n",
    "\n",
    "ax.spines['top'].set_visible(False)\n",
    "ax.spines['right'].set_visible(False)\n",
    "# ax.axis('off')\n",
    "# \n",
    "# plt.savefig('/Users/gautam.sridhar/Documents/ZENITH/Figures/Fig2/phi1_phi2_speed.pdf')\n"
   ]
  },
  {
   "cell_type": "code",
   "execution_count": null,
   "id": "fatal-interference",
   "metadata": {},
   "outputs": [],
   "source": [
    "speeds_head_allcond = np.delete(speeds_head_allcond, recs_remove,axis=0)\n",
    "speeds_head_allcond[phi_smooth_allcond.mask] = ma.masked"
   ]
  },
  {
   "cell_type": "code",
   "execution_count": null,
   "id": "built-charity",
   "metadata": {},
   "outputs": [],
   "source": [
    "K=5\n",
    "meanKspeed_fish = [speeds_head_allcond[:,k:k+K,:].mean(axis=1).mean(axis=1) for k in range(len(speeds_head_allcond[0])-K)]\n",
    "meanKspeed_fish = ma.vstack(meanKspeed_fish).T\n",
    "\n",
    "meanKspeed = -1*ma.ones((speeds_head_allcond.shape[0],speeds_head_allcond.shape[1]))\n",
    "meanKspeed[:,2:-3] = meanKspeed_fish\n",
    "print(meanKspeed_all.shape)\n",
    "\n",
    "meanKspeed[meanKspeed==-1] = ma.masked\n",
    "meanKspeed_all = ma.hstack(meanKspeed)\n",
    "speed_labels = np.asarray([ma.mean(meanKspeed_all[labels_all==kl]) for kl in range(1200)])"
   ]
  },
  {
   "cell_type": "code",
   "execution_count": null,
   "id": "structural-elizabeth",
   "metadata": {},
   "outputs": [],
   "source": [
    "speed_labels = np.asarray([ma.mean(speeds_embed[labels_all==kl]) for kl in range(1200)])"
   ]
  },
  {
   "cell_type": "code",
   "execution_count": null,
   "id": "uniform-american",
   "metadata": {},
   "outputs": [],
   "source": [
    "## Kinetic Maps with diffusion distances\n",
    "fig, ax = plt.subplots(1,1,figsize=(12,10))\n",
    "\n",
    "im = ax.scatter(phi_1[:],phi_2[:],s=200,c=speed_labels,vmax = 1.3,vmin=0.5,alpha=1., cmap='viridis')\n",
    "fig.colorbar(im)\n",
    "\n",
    "ax.spines['top'].set_visible(False)\n",
    "ax.spines['right'].set_visible(False)\n",
    "# ax.axis('off')\n",
    "\n",
    "# plt.savefig('/Users/gautam.sridhar/Documents/ZENITH/Figures/Fig2/phi1_phi2_speed.pdf')"
   ]
  },
  {
   "cell_type": "markdown",
   "id": "three-status",
   "metadata": {},
   "source": [
    "### Kinematics Fig 2d"
   ]
  },
  {
   "cell_type": "code",
   "execution_count": null,
   "id": "scenic-martin",
   "metadata": {},
   "outputs": [],
   "source": [
    "K=5\n",
    "meanKphi_fish = [psi[:,k:k+K].mean(axis=1) for k in range(len(psi[0])-K)]\n",
    "meanKphi_fish = ma.vstack(meanKphi_fish).T\n",
    "\n",
    "meanKphi = -1*ma.ones((psi.shape[0],psi.shape[1]))\n",
    "meanKphi[:,2:-3] = meanKphi_fish\n",
    "print(meanKphi.shape)\n",
    "\n",
    "meanKphi[meanKphi==-1] = ma.masked\n",
    "meanKphi_all = ma.hstack(meanKphi)"
   ]
  },
  {
   "cell_type": "code",
   "execution_count": null,
   "id": "southwest-return",
   "metadata": {},
   "outputs": [],
   "source": [
    "## Kinetic Maps with diffusion distances\n",
    "fig, ax = plt.subplots(1,1,figsize=(12,10))\n",
    "\n",
    "pmin = 0.0\n",
    "\n",
    "distorted_ = ma.concatenate(distorted_fish[:,:,2], axis=0)\n",
    "\n",
    "im = ax.scatter(distorted_.compressed()[0::50],mean_Kphi_all.compressed()[0::50],c='grey', alpha=0.1,s=5)\n",
    "img = stats.density_plot(distorted_.compressed()[:-2],mean_Kphi_all.compressed()[:],[-1.1,1.1],[0,0.5],90,90,smooth=True, border=3)\n",
    "\n",
    "\n",
    "X,Y = np.meshgrid(np.linspace(-1.1,1.1,96), np.linspace(0,0.5,96))\n",
    "ax.contour(X,Y, img, cmap='magma', linewidths=4)\n",
    "\n",
    "ax.spines['top'].set_visible(False)\n",
    "ax.spines['right'].set_visible(False)\n",
    "# ax.axis('off')\n",
    "\n",
    "# plt.savefig('/Users/gautam.sridhar/Documents/ZENITH/Figures/Fig2/phi1_phi2_speed.pdf')\n"
   ]
  },
  {
   "cell_type": "markdown",
   "id": "responsible-mongolia",
   "metadata": {},
   "source": [
    "### Coherence based split Fig 2e"
   ]
  },
  {
   "cell_type": "code",
   "execution_count": null,
   "id": "narrow-brown",
   "metadata": {},
   "outputs": [],
   "source": [
    "c_range_phi1,rho_sets,measures,split_idx_phi1,coh_labels_phi1 = op_calc.optimal_partition(phi1,inv_measure,P_ensemble,return_rho=True)\n",
    "kmeans_labels = coh_labels_phi1"
   ]
  },
  {
   "cell_type": "code",
   "execution_count": null,
   "id": "beneficial-venice",
   "metadata": {},
   "outputs": [],
   "source": [
    "sort_clus_idx = np.argsort(coh_labels_phi1)[::-1]"
   ]
  },
  {
   "cell_type": "code",
   "execution_count": null,
   "id": "extended-bristol",
   "metadata": {},
   "outputs": [],
   "source": [
    "fig, ax = plt.subplots(1,1,figsize=(5,5))\n",
    "D2 = copy.deepcopy(P_ensemble.todense())\n",
    "D2[:] = D2[sort_clus_idx,:]\n",
    "D2[:] = D2[:,sort_clus_idx]\n",
    "\n",
    "ax.imshow(D2, vmax = 0.003,cmap='magma')\n",
    "ax.axis('off')"
   ]
  },
  {
   "cell_type": "code",
   "execution_count": null,
   "id": "aquatic-onion",
   "metadata": {},
   "outputs": [],
   "source": [
    "cluster_traj_all = ma.copy(final_labels)\n",
    "cluster_traj_all[~final_labels.mask] = ma.array(kmeans_labels)[final_labels[~final_labels.mask]]\n",
    "cluster_traj_all[final_labels.mask] = ma.masked\n",
    "\n",
    "cluster_fish = cluster_traj_all.reshape(labels_fish.shape[0],labels_fish.shape[1])\n",
    "cluster_fish_mask = cluster_fish.mask"
   ]
  },
  {
   "cell_type": "code",
   "execution_count": null,
   "id": "announced-airplane",
   "metadata": {},
   "outputs": [],
   "source": [
    "cond_recs = np.arange(463)\n",
    "\n",
    "maxL = np.max(lengths_rem[cond_recs])\n",
    "\n",
    "cluster_fish_condition = cluster_fish[cond_recs,:maxL]\n",
    "\n",
    "cluster_traj = ma.concatenate(cluster_fish_condition, axis=0)\n",
    "print(cluster_fish_condition.shape)"
   ]
  },
  {
   "cell_type": "code",
   "execution_count": null,
   "id": "wanted-finland",
   "metadata": {},
   "outputs": [],
   "source": [
    "phi_smooth = phi_smooth_allcond\n",
    "phi_smooth[phi_smooth == 0] = ma.masked\n",
    "# phis = ma.concatenate(phi_smooth, axis=0)"
   ]
  },
  {
   "cell_type": "code",
   "execution_count": null,
   "id": "dutch-celebrity",
   "metadata": {},
   "outputs": [],
   "source": [
    "phis_fish = [[],[],[],[],[],[],[],[]]\n",
    "for cf in range(start_rec,end_rec):\n",
    "    for ks in np.unique(cluster_traj.compressed()):\n",
    "        print(ks, cf)\n",
    "        sel = cluster_fish_condition[cf - start_rec] == ks\n",
    "        segments = np.where(np.abs(np.diff(np.concatenate([[False], sel, [False]]))))[0].reshape(-1, 2)\n",
    "        if len(segments) == 0:\n",
    "            continue\n",
    "        sorted_indices = np.argsort(np.hstack(np.diff(segments,axis=1)))[::-1]\n",
    "        avg_orientation = [] \n",
    "        for idx in sorted_indices:\n",
    "            t0,tf = segments[idx]\n",
    "            for j in range(t0,tf):\n",
    "                angle = phi_smooth[cf,j]\n",
    "                angle2 = angle[~angle.mask]\n",
    "                orient_diff = np.abs((angle2[-1] - angle[0])*(180/np.pi))\n",
    "                avg_orientation.append(orient_diff)\n",
    "        phis_fish[ks].append(ma.hstack(avg_orientation))"
   ]
  },
  {
   "cell_type": "code",
   "execution_count": null,
   "id": "posted-toolbox",
   "metadata": {},
   "outputs": [],
   "source": [
    "y_ebs_phis, x_all_phis = stats.dist_bootstrap(phis_fish, 0, 150, 2, 10)"
   ]
  },
  {
   "cell_type": "code",
   "execution_count": null,
   "id": "active-neighbor",
   "metadata": {},
   "outputs": [],
   "source": [
    "fig,ax = plt.subplots(1,1, figsize=(10,10))\n",
    "\n",
    "for ms in np.unique(cluster_traj_all.compressed()):\n",
    "    mean = y_ebs_phis[ms][:-1,0]\n",
    "    cil = y_ebs_phis[ms][:-1,1]\n",
    "    ciu = y_ebs_phis[ms][:-1,2]\n",
    "    ax.plot(x_all_phis[ms], 1-y_ebs_phis[ms][:,0], color='k', ls = '--', alpha=1.)\n",
    "    ax.fill_between(x_all_phis[ms], 1-y_ebs_phis[ms][:,1], 1-y_ebs_phis[ms][:,2], alpha=0.7, color=st_colors[ms])\n",
    "#     ax.errorbar(x_all_phis[ms][:-1], mean,[mean-cil, ciu - mean], fmt='.', capsize=10, color = st_colors[ms], alpha=0.2)\n",
    "        \n",
    "# ax.axis('off')\n",
    "ax.spines['top'].set_visible(False)\n",
    "ax.spines['right'].set_visible(False)\n",
    "# ax.set_xticklabels([])\n",
    "# ax.set_yticklabels([])\n",
    "# ax.set_yscale('log')\n",
    "# ax.set_xlabel(r'$\\Delta$ Orientation per bout ($\\circ$)',fontsize=35)\n",
    "# ax.set_ylabel('CDF',fontsize= 40)\n",
    "# ax.legend(loc=\"upper left\",bbox_to_anchor=(1.0, 1.05), fontsize=40, ncol=2)\n",
    "plt.xticks(fontsize=30)\n",
    "plt.yticks(fontsize=30)\n",
    "ax.set_xlim(-1,150)\n",
    "ax.set_ylim(1e-4,1)\n",
    "\n",
    "# plt.savefig('/Users/gautam.sridhar/Documents/ZENITH/Figures/Fig2/WC_heading_new.pdf')\n",
    "# plt.show()"
   ]
  },
  {
   "cell_type": "markdown",
   "id": "recorded-literacy",
   "metadata": {},
   "source": [
    "### Generate lab space trajectories - Fig insets"
   ]
  },
  {
   "cell_type": "code",
   "execution_count": null,
   "id": "global-branch",
   "metadata": {},
   "outputs": [],
   "source": [
    "X_head_allcond = np.delete(X_head_allcond, axis=0)\n",
    "X_head_allcond[X_head_allcond == 0] = ma.masked "
   ]
  },
  {
   "cell_type": "code",
   "execution_count": null,
   "id": "legal-distribution",
   "metadata": {},
   "outputs": [],
   "source": [
    "X_head = X_head_allcond"
   ]
  },
  {
   "cell_type": "code",
   "execution_count": null,
   "id": "floppy-accuracy",
   "metadata": {},
   "outputs": [],
   "source": [
    "fig, ax = plt.subplots(1,1,figsize=(10,10))\n",
    "# phi_traj_fish = eigfunctions_traj[:,1].reshape(labels_fish.shape[0], labels_fish.shape[1])\n",
    "eigfish = distorted_fish[:,:,0]\n",
    "\n",
    "\n",
    "rec = 442\n",
    "print(len(eigfish[rec].compressed()))\n",
    "st = 0\n",
    "en = len(eigfish[rec].compressed())\n",
    "\n",
    "# print(eigfish[rec].compressed().shape)\n",
    "\n",
    "colors_ = eigfish[rec,st:en]\n",
    "# print(colors_)\n",
    "colors_ = ma.repeat(colors_[:,np.newaxis],X_head.shape[2],axis=1)\n",
    "divnorm = pltcolors.TwoSlopeNorm(vmin=-1, vcenter=0, vmax=1.)\n",
    "\n",
    "X_toplot = X_head[rec,st:en,:,0]\n",
    "Y_toplot = X_head[rec,st:en,:,1]\n",
    "\n",
    "print(X_toplot.shape)\n",
    "\n",
    "im = ax.scatter(ma.hstack(X_toplot),ma.hstack(Y_toplot),alpha=1.,c = colors_,ec='k', linewidths=0.05,s = 20., norm=divnorm, cmap='PuOr_r')\n",
    "# im = ax.scatter(ma.hstack(X_toplot),ma.hstack(Y_toplot),alpha=1.,c = np.arange(0,colors_.size),s = 3., cmap='viridis')\n",
    "im = ax.scatter(ma.hstack(X_toplot[0]),ma.hstack(Y_toplot[0]),alpha=.75,c = 'g',s = 3.)\n",
    "im = ax.scatter(ma.hstack(X_toplot[-1]),ma.hstack(Y_toplot[-1]),alpha=.75,c = 'k',s = 3.)\n",
    "\n",
    "ax.spines['top'].set_visible(False)\n",
    "ax.spines['right'].set_visible(False)\n",
    "\n",
    "for axis in ['bottom','left']:\n",
    "    ax.spines[axis].set_linewidth(4)\n",
    "ax.set_xticks([0,950])\n",
    "ax.set_xticklabels(['',''], fontsize=30)\n",
    "ax.set_yticks([0,950])\n",
    "ax.set_yticklabels(['',''], fontsize=30)\n",
    "# ax.set_ylabel('y', fontsize=20)\n",
    "ax.set_xlim(0,950)\n",
    "ax.set_ylim(0,950)\n",
    "plt.tight_layout()\n",
    "plt.axis('off')\n",
    "# plt.savefig('/Users/gautam.sridhar/Documents/ZENITH/Figures/Suppl7/lightlarge_eg.png', dpi=300)\n",
    "plt.show()"
   ]
  },
  {
   "cell_type": "code",
   "execution_count": null,
   "id": "substantial-slovakia",
   "metadata": {},
   "outputs": [],
   "source": [
    "fig, ax = plt.subplots(1,1,figsize=(10,10))\n",
    "# phi_traj_fish = eigfunctions_traj[:,1].reshape(labels_fish.shape[0], labels_fish.shape[1])\n",
    "eigfish = distorted_fish[:,:,1]\n",
    "\n",
    "\n",
    "rec = 442\n",
    "print(len(eigfish[rec].compressed()))\n",
    "st = 0\n",
    "en = len(eigfish[rec].compressed())\n",
    "\n",
    "# print(eigfish[rec].compressed().shape)\n",
    "\n",
    "colors_ = eigfish[rec,st:en]\n",
    "# print(colors_)\n",
    "colors_ = ma.repeat(colors_[:,np.newaxis],X_head.shape[2],axis=1)\n",
    "divnorm = pltcolors.TwoSlopeNorm(vmin=-1, vcenter=0, vmax=1.)\n",
    "\n",
    "X_toplot = X_head[rec,st:en,:,0]\n",
    "Y_toplot = X_head[rec,st:en,:,1]\n",
    "\n",
    "print(X_toplot.shape)\n",
    "\n",
    "im = ax.scatter(ma.hstack(X_toplot),ma.hstack(Y_toplot),alpha=1.,c = colors_,ec='k', linewidths=0.05,s = 20., norm=divnorm, cmap='PuOr_r')\n",
    "# im = ax.scatter(ma.hstack(X_toplot),ma.hstack(Y_toplot),alpha=1.,c = np.arange(0,colors_.size),s = 3., cmap='viridis')\n",
    "im = ax.scatter(ma.hstack(X_toplot[0]),ma.hstack(Y_toplot[0]),alpha=.75,c = 'g',s = 3.)\n",
    "im = ax.scatter(ma.hstack(X_toplot[-1]),ma.hstack(Y_toplot[-1]),alpha=.75,c = 'k',s = 3.)\n",
    "\n",
    "ax.spines['top'].set_visible(False)\n",
    "ax.spines['right'].set_visible(False)\n",
    "\n",
    "for axis in ['bottom','left']:\n",
    "    ax.spines[axis].set_linewidth(4)\n",
    "ax.set_xticks([0,950])\n",
    "ax.set_xticklabels(['',''], fontsize=30)\n",
    "ax.set_yticks([0,950])\n",
    "ax.set_yticklabels(['',''], fontsize=30)\n",
    "# ax.set_ylabel('y', fontsize=20)\n",
    "ax.set_xlim(0,950)\n",
    "ax.set_ylim(0,950)\n",
    "plt.tight_layout()\n",
    "plt.axis('off')\n",
    "# plt.savefig('/Users/gautam.sridhar/Documents/ZENITH/Figures/Suppl7/lightlarge_eg.png', dpi=300)\n",
    "plt.show()"
   ]
  },
  {
   "cell_type": "code",
   "execution_count": null,
   "id": "raising-diving",
   "metadata": {},
   "outputs": [],
   "source": [
    "fig, ax = plt.subplots(1,1,figsize=(10,10))\n",
    "# phi_traj_fish = eigfunctions_traj[:,1].reshape(labels_fish.shape[0], labels_fish.shape[1])\n",
    "eigfish = distorted_fish[:,:,2]\n",
    "\n",
    "\n",
    "rec = 442\n",
    "print(len(eigfish[rec].compressed()))\n",
    "st = 0\n",
    "en = len(eigfish[rec].compressed())\n",
    "\n",
    "# print(eigfish[rec].compressed().shape)\n",
    "\n",
    "colors_ = eigfish[rec,st:en]\n",
    "# print(colors_)\n",
    "colors_ = ma.repeat(colors_[:,np.newaxis],X_head.shape[2],axis=1)\n",
    "divnorm = pltcolors.TwoSlopeNorm(vmin=-1, vcenter=0, vmax=1.)\n",
    "\n",
    "X_toplot = X_head[rec,st:en,:,0]\n",
    "Y_toplot = X_head[rec,st:en,:,1]\n",
    "\n",
    "print(X_toplot.shape)\n",
    "\n",
    "im = ax.scatter(ma.hstack(X_toplot),ma.hstack(Y_toplot),alpha=1.,c = colors_,ec='k', linewidths=0.05,s = 20., norm=divnorm, cmap='PuOr_r')\n",
    "# im = ax.scatter(ma.hstack(X_toplot),ma.hstack(Y_toplot),alpha=1.,c = np.arange(0,colors_.size),s = 3., cmap='viridis')\n",
    "im = ax.scatter(ma.hstack(X_toplot[0]),ma.hstack(Y_toplot[0]),alpha=.75,c = 'g',s = 3.)\n",
    "im = ax.scatter(ma.hstack(X_toplot[-1]),ma.hstack(Y_toplot[-1]),alpha=.75,c = 'k',s = 3.)\n",
    "\n",
    "ax.spines['top'].set_visible(False)\n",
    "ax.spines['right'].set_visible(False)\n",
    "\n",
    "for axis in ['bottom','left']:\n",
    "    ax.spines[axis].set_linewidth(4)\n",
    "ax.set_xticks([0,950])\n",
    "ax.set_xticklabels(['',''], fontsize=30)\n",
    "ax.set_yticks([0,950])\n",
    "ax.set_yticklabels(['',''], fontsize=30)\n",
    "# ax.set_ylabel('y', fontsize=20)\n",
    "ax.set_xlim(0,950)\n",
    "ax.set_ylim(0,950)\n",
    "plt.tight_layout()\n",
    "plt.axis('off')\n",
    "# plt.savefig('/Users/gautam.sridhar/Documents/ZENITH/Figures/Suppl7/lightlarge_eg.png', dpi=300)\n",
    "plt.show()"
   ]
  }
 ],
 "metadata": {
  "kernelspec": {
   "display_name": "Python 3",
   "language": "python",
   "name": "python3"
  },
  "language_info": {
   "codemirror_mode": {
    "name": "ipython",
    "version": 3
   },
   "file_extension": ".py",
   "mimetype": "text/x-python",
   "name": "python",
   "nbconvert_exporter": "python",
   "pygments_lexer": "ipython3",
   "version": "3.8.2"
  }
 },
 "nbformat": 4,
 "nbformat_minor": 5
}
