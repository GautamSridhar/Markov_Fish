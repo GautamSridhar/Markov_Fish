{
 "cells": [
  {
   "cell_type": "code",
   "execution_count": null,
   "id": "fixed-border",
   "metadata": {},
   "outputs": [],
   "source": [
    "#data format library\n",
    "import h5py\n",
    "\n",
    "#numpy\n",
    "import numpy as np\n",
    "import pandas as pd\n",
    "import numpy.ma as ma\n",
    "%matplotlib inline\n",
    "import matplotlib\n",
    "import matplotlib.pyplot as plt\n",
    "import matplotlib as mpl\n",
    "new_rc_params = {'text.usetex': False,\n",
    "\"svg.fonttype\": 'none'\n",
    "}\n",
    "mpl.rcParams.update(new_rc_params)\n",
    "plt.rcParams[\"font.family\"] = \"Times New Roman\"\n",
    "# %matplotlib notebook\n",
    "import sys\n",
    "sys.path.append('/Users/gautam.sridhar/Documents/Repos/Markov_Fish/utils/')\n",
    "import matplotlib.colors as pltcolors\n",
    "import os\n",
    "import copy\n",
    "import clustering_methods as cl\n",
    "import operator_calculations as op_calc\n",
    "import delay_embedding as embed\n",
    "import stats\n",
    "import time\n",
    "\n",
    "np.random.seed(42)\n",
    "\n",
    "import importlib\n",
    "importlib.reload(op_calc)"
   ]
  },
  {
   "cell_type": "code",
   "execution_count": null,
   "id": "latin-recording",
   "metadata": {},
   "outputs": [],
   "source": [
    "## Load symbolic sequences\n",
    "\n",
    "path_to_filtered_data = '/Users/gautam.sridhar/Documents/Repos/Markov_Fish/Datasets/JM_Data/'\n",
    "f = h5py.File(path_to_filtered_data + 'pool_ex8_PCs/kmeans_labels_K5_N1200_s8684.h5')\n",
    "lengths_all = np.array(f['MetaData/lengths_data'], dtype=int)\n",
    "labels_fish_allrec = ma.array(f['labels_fish'],dtype=int)\n",
    "state_trajs = ma.array(f['state_trajs'])\n",
    "f.close()\n",
    "\n",
    "# lengths_all = np.load('/Users/gautam.sridhar/Documents/Repos/ZebraBouts/Datasets/Full_Data/lengths_ex2_recordings.npy')\n",
    "# lengths_all = lengths"
   ]
  },
  {
   "cell_type": "code",
   "execution_count": null,
   "id": "acoustic-integer",
   "metadata": {},
   "outputs": [],
   "source": [
    "to_mask = 1300\n",
    "maxL = np.max(lengths_all)\n",
    "\n",
    "labels_fish_allrec[labels_fish_allrec == to_mask] = ma.masked\n",
    "labels_fish = labels_fish_allrec\n",
    "\n",
    "lengths_rem = lengths_all"
   ]
  },
  {
   "cell_type": "code",
   "execution_count": null,
   "id": "coastal-connecticut",
   "metadata": {},
   "outputs": [],
   "source": [
    "## Select Dataset\n",
    "np.random.seed(42)\n",
    "seeds = np.random.randint(0,10000,100)\n",
    "delay_range = np.arange(1,20,1)\n",
    "dt = 1\n",
    "div= 463\n",
    "n_modes=50\n",
    "labels_all= ma.concatenate(labels_fish,axis=0)\n",
    "print(labels_fish.shape)"
   ]
  },
  {
   "cell_type": "code",
   "execution_count": null,
   "id": "mediterranean-brooks",
   "metadata": {},
   "outputs": [],
   "source": [
    "P_ensemble = np.load('/Users/gautam.sridhar/Documents/Repos/ZebraBouts/Datasets/Full_Data/P_ensemble_ex8_N1200_s8684.npy')"
   ]
  },
  {
   "cell_type": "code",
   "execution_count": null,
   "id": "labeled-promise",
   "metadata": {},
   "outputs": [],
   "source": [
    "from scipy.sparse import diags,identity,coo_matrix, csr_matrix\n",
    "P_ensemble = csr_matrix(P_ensemble)"
   ]
  },
  {
   "cell_type": "code",
   "execution_count": null,
   "id": "informative-crest",
   "metadata": {},
   "outputs": [],
   "source": [
    "import msmtools.estimation as msm_estimation\n",
    "delay = 3\n",
    "dt = 1\n",
    "print(delay)\n",
    "# lcs_ensemble,P_ensemble = op_calc.transition_matrix(labels_all,delay,return_connected=True)\n",
    "lcs_ensemble = msm_estimation.largest_connected_set(P_ensemble)\n",
    "inv_measure = op_calc.stationary_distribution(P_ensemble)\n",
    "final_labels = op_calc.get_connected_labels(labels_all,lcs_ensemble)\n",
    "R = op_calc.get_reversible_transition_matrix(P_ensemble)\n",
    "eigvals,eigvecs = op_calc.sorted_spectrum(R,k=10,seed=123)\n",
    "sorted_indices = np.argsort(eigvals.real)[::-1]\n",
    "eigvals = eigvals[sorted_indices][1:].real\n",
    "eigvals[np.abs(eigvals-1)<1e-12] = np.nan\n",
    "eigvals[eigvals<1e-12] = np.nan\n",
    "t_imp =  -(delay*dt)/np.log(np.abs(eigvals))\n",
    "eigfunctions = eigvecs.real/np.linalg.norm(eigvecs.real,axis=0)\n",
    "eigfunctions_traj = ma.array(eigfunctions)[final_labels,:]\n",
    "eigfunctions_traj[final_labels.mask] = ma.masked"
   ]
  },
  {
   "cell_type": "markdown",
   "id": "emotional-spouse",
   "metadata": {},
   "source": [
    "## Simulations at q=2"
   ]
  },
  {
   "cell_type": "code",
   "execution_count": null,
   "id": "superb-heater",
   "metadata": {},
   "outputs": [],
   "source": [
    "st_colors = ['#1F50A3','#D04D49']"
   ]
  },
  {
   "cell_type": "code",
   "execution_count": null,
   "id": "educated-application",
   "metadata": {},
   "outputs": [],
   "source": [
    "# labels = labels_all\n",
    "\n",
    "path_to_filtered_data = '/Users/gautam.sridhar/Documents/Repos/ZebraBouts/Results/'\n",
    "f = h5py.File(path_to_filtered_data + 'pool_ex7_PCs/simlabels_fish_K5_N1200_tau3_cg2.h5')\n",
    "sims_fishnum = ma.asarray(f['MetaData/simfishes'], dtype=int)\n",
    "lengths_sims = ma.asarray(f['MetaData/lengths_sims'], dtype=int)\n",
    "sims_fish = ma.asarray(f['sim_labels'], dtype=int)\n",
    "f.close()\n",
    "to_mask = 1300\n",
    "\n",
    "sims_fish[sims_fish == to_mask] = ma.masked"
   ]
  },
  {
   "cell_type": "code",
   "execution_count": null,
   "id": "coordinated-schedule",
   "metadata": {},
   "outputs": [],
   "source": [
    "kmeans_labels = coh_labels_phi1"
   ]
  },
  {
   "cell_type": "code",
   "execution_count": null,
   "id": "psychological-removal",
   "metadata": {},
   "outputs": [],
   "source": [
    "cluster_traj_all = ma.copy(final_labels)\n",
    "cluster_traj_all[~final_labels.mask] = ma.array(kmeans_labels)[final_labels[~final_labels.mask]]\n",
    "cluster_traj_all[final_labels.mask] = ma.masked\n",
    "\n",
    "cluster_fish = cluster_traj_all.reshape(labels_fish.shape[0],labels_fish.shape[1])\n",
    "cluster_fish_mask = cluster_fish.mask"
   ]
  },
  {
   "cell_type": "code",
   "execution_count": null,
   "id": "disciplinary-baltimore",
   "metadata": {},
   "outputs": [],
   "source": [
    "lifetimes_fish = [[],[],[],[],[],[],[]]\n",
    "n_state = 4\n",
    "\n",
    "for cf in range(cluster_fish.shape[0]):\n",
    "    cluster_fish[cf,0] = ma.masked\n",
    "    cluster_fish[cf,lengths_rem[cf]-1] = ma.masked\n",
    "    data_lifetimes, state_labels = stats.state_lifetime(cluster_fish[cf,::3],3)\n",
    "    for k,ks in enumerate(state_labels):\n",
    "        lifetimes_fish[ks].append(data_lifetimes[k])\n",
    "    \n",
    "    if len(state_labels) < n_state:\n",
    "        exc_state_labels = np.delete(np.arange(n_state),state_labels)\n",
    "        for k,ks in enumerate(exc_state_labels):\n",
    "            lifetimes_fish[ks].append([0])"
   ]
  },
  {
   "cell_type": "code",
   "execution_count": null,
   "id": "wooden-court",
   "metadata": {},
   "outputs": [],
   "source": [
    "y_errorbar_metastate, x_all_metastate, m_all_metastate, b_all_metastate, tscales_metastate, params_metastate, mean_lifetimes = stats.state_lifetimes_stats(lifetimes_fish, n_states=2, t0=0, tf=1500 ,n_times=100)"
   ]
  },
  {
   "cell_type": "code",
   "execution_count": null,
   "id": "creative-librarian",
   "metadata": {},
   "outputs": [],
   "source": [
    "sims_lifetimes_fish = [[],[],[],[],[],[],[]]\n",
    "n_state = 2\n",
    "for cf in range(sims_fish.shape[1]):\n",
    "    print(cf)\n",
    "    sf = sims_fish[:,cf,:lengths_rem[cf]].squeeze()\n",
    "    sf[:,0] = ma.masked\n",
    "    sf[:,-1] = ma.masked\n",
    "    sf = ma.concatenate(sims_fish[:,cf,:lengths_rem[cf]].squeeze(), axis=0)\n",
    "    data_lifetimes, state_labels = stats.state_lifetime(sf,3)\n",
    "    for k,ks in enumerate(state_labels):\n",
    "        sims_lifetimes_fish[ks].append(data_lifetimes[k])\n",
    "        \n",
    "    if len(state_labels) < n_state:\n",
    "        print(len(state_labels))\n",
    "        exc_state_labels = np.delete(np.arange(n_state),state_labels)\n",
    "        for k,ks in enumerate(exc_state_labels):\n",
    "            sims_lifetimes_fish[ks].append([0])"
   ]
  },
  {
   "cell_type": "code",
   "execution_count": null,
   "id": "hawaiian-methodology",
   "metadata": {},
   "outputs": [],
   "source": [
    "y_errorbar_metastate_sims, x_all_metastate_sims, m_all_metastate, b_all_metastate, tscales_metastate, params_metastate, mean_lifetimes = stats.state_lifetimes_stats(sims_lifetimes_fish, n_states=2,t0=0,tf=1500, n_times=100)"
   ]
  },
  {
   "cell_type": "code",
   "execution_count": null,
   "id": "photographic-beverage",
   "metadata": {},
   "outputs": [],
   "source": [
    "fig,ax = plt.subplots(1,1, figsize=(12.5,12.5))\n",
    "\n",
    "t0,tf = 1,600\n",
    "\n",
    "xrange = np.linspace(t0,tf,160)\n",
    "\n",
    "sim_markers = ['o','s']\n",
    "\n",
    "# st_names = ['Metastate 1', 'Metastate 2']\n",
    "\n",
    "# for state_idx in np.unique(kmeans_labels):\n",
    "#     x,y = stats.cumulative_dist(data_f_lt[state_idx],[0,1000])\n",
    "#     y = np.array([np.mean(y[x==x_unique]) for x_u nique in np.unique(x)])\n",
    "#     x = np.sort(np.unique(x))\n",
    "#     plt.plot(x,1-y,lw=2,ls='--',c=st_colors[state_idx])\n",
    "\n",
    "for ms in [0,1]:#np.unique(cluster_traj_all.compressed()):\n",
    "\n",
    "    mean = y_errorbar_metastate[ms][:-1,0]\n",
    "    cil = y_errorbar_metastate[ms][:-1,1]\n",
    "    ciu = y_errorbar_metastate[ms][:-1,2]\n",
    "    \n",
    "    mean_sim = y_errorbar_metastate_sims[ms][:-1,0]\n",
    "    cil_sim = y_errorbar_metastate_sims[ms][:-1,1]\n",
    "    ciu_sim = y_errorbar_metastate_sims[ms][:-1,2]\n",
    "    \n",
    "    ax.scatter(x_all_metastate[ms][:-1], mean, marker='^',s=50, color='C{}'.format(ms))#,label = r'Mean Duration$_{} = {}$ Bouts'.format({st_names2[ms][0:2]}, round(mean_lifetimes[ms],2)))\n",
    "    ax.errorbar(x_all_metastate[ms][:-1], mean,[mean-cil, ciu - mean], fmt='.', capsize=10, color = 'C{}'.format(ms), alpha=0.4)\n",
    "\n",
    "    ax.scatter(x_all_metastate_sims[ms][:-1], mean_sim,s=100, marker='o',facecolors='none', edgecolors='C{}'.format(ms))\n",
    "    ax.fill_between(x_all_metastate_sims[ms][:-1], cil_sim, ciu_sim, alpha=0.3, color='C{}'.format(ms))\n",
    "    \n",
    "ax.spines['top'].set_visible(False)\n",
    "ax.spines['right'].set_visible(False)\n",
    "ax.set_yscale('log')\n",
    "# ax.set_title('Actual and Simulated dwell times', fontsize=35)\n",
    "ax.set_xscale('log')\n",
    "ax.set_xlabel(r'Number of states',fontsize=40)\n",
    "ax.set_ylabel(r'Complementary CDF (log scale)',fontsize= 40)\n",
    "ax.legend(loc=\"upper left\",bbox_to_anchor=(0.4, 0.96), fontsize=30)\n",
    "plt.xticks(fontsize=30)\n",
    "plt.yticks(fontsize=30)\n",
    "# ax.set_xlim(1,1000)\n",
    "# ax.set_ylim(5e-6,1) \n",
    "\n",
    "# plt.savefig('/Users/gautam.sridhar/Documents/ZENITH/Figures/Suppl4/2state_dwelltime_dist.pdf')\n",
    "plt.show()"
   ]
  },
  {
   "cell_type": "code",
   "execution_count": null,
   "id": "aggregate-medicare",
   "metadata": {},
   "outputs": [],
   "source": [
    "hr_sims = [[],[],[],[],[],[],[]]\n",
    "sims_ciu = [[],[],[],[],[],[],[]]\n",
    "sims_cil = [[],[],[],[],[],[],[]]\n",
    "for ms in np.unique(cluster_traj_all.compressed()):\n",
    "    dwell_times_sims = sims_lifetimes_fish[ms]\n",
    "    dwell_times_real = lifetimes_fish[ms]\n",
    "    for cf in range(len(dwell_times_real)):\n",
    "        print(cf)\n",
    "        m, cil, ciu = stats.bootstrap(ma.hstack(dwell_times_sims[cf]), n_times=100, n_samples=len(ma.hstack(dwell_times_real[cf])))\n",
    "        hr_sims[ms].append(m)\n",
    "        sims_cil[ms].append(np.hstack(cil))\n",
    "        sims_ciu[ms].append(np.hstack(ciu))"
   ]
  },
  {
   "cell_type": "code",
   "execution_count": null,
   "id": "moderate-china",
   "metadata": {},
   "outputs": [],
   "source": [
    "hr_real = [[],[],[],[],[],[],[]]\n",
    "real_ciu = [[],[],[],[],[],[],[]]\n",
    "real_cil = [[],[recs_remove],[],[],[]]\n",
    "for ms in np.unique(cluster_traj_all.compressed()):\n",
    "    dwell_times_real = lifetimes_fish[ms]\n",
    "    for cf in range(len(dwell_times_real)):\n",
    "        print(cf)\n",
    "        m, cil, ciu = stats.bootstrap(ma.hstack(dwell_times_real[cf]), n_times=100, n_samples=len(ma.hstack(dwell_times_real[cf])))\n",
    "        hr_real[ms].append(m)\n",
    "        real_cil[ms].append(np.hstack(cil))\n",
    "        real_ciu[ms].append(np.hstack(ciu))"
   ]
  },
  {
   "cell_type": "code",
   "execution_count": null,
   "id": "recent-status",
   "metadata": {},
   "outputs": [],
   "source": [
    "fig, ax = plt.subplots(1,1,figsize=(12.5,12.5))\n",
    "\n",
    "\n",
    "for ms in [0,1]:\n",
    "    print(ms)\n",
    "    ax.scatter(np.asarray(hr_real[ms]),np.asarray(hr_sims[ms]), c = st_colors[ms], s=100, alpha=.6, marker='o')\n",
    "    ax.errorbar(np.asarray(hr_real[ms]),np.asarray(hr_sims[ms]), \n",
    "                yerr=[np.array(hr_sims[ms]) - np.hstack(sims_cil[ms]),np.hstack(sims_ciu[ms]) - np.hstack(hr_sims[ms])], \n",
    "                elinewidth=3, capsize=5, fmt='o', color=st_colors[ms], alpha=0.15)\n",
    "    ax.errorbar(np.asarray(hr_real[ms]),np.asarray(hr_sims[ms]), \n",
    "                xerr=[np.array(hr_real[ms]) - np.hstack(real_cil[ms]),np.hstack(real_ciu[ms]) - np.hstack(hr_real[ms])], \n",
    "                elinewidth=3, capsize=5, fmt='o', color=st_colors[ms], alpha=0.15)\n",
    "\n",
    "\n",
    "ax.plot(np.arange(1,1000), np.arange(1,1000), ls = '--', c='k')\n",
    "\n",
    "ax.set_xscale('log')\n",
    "ax.set_yscale('log')\n",
    "plt.xticks(fontsize=35)\n",
    "plt.yticks(fontsize=35)\n",
    "# plt.savefig('/Users/gautam.sridhar/Documents/ZENITH/Figures/suppl4/sims_7state_hr_new.pdf')"
   ]
  },
  {
   "cell_type": "markdown",
   "id": "oriented-shannon",
   "metadata": {},
   "source": [
    "## Simulations at q=4"
   ]
  },
  {
   "cell_type": "code",
   "execution_count": null,
   "id": "ahead-renaissance",
   "metadata": {},
   "outputs": [],
   "source": [
    "st_colors = ['#343B97', '#00B4F0', '#FBDD2B', '#8D2B24']"
   ]
  },
  {
   "cell_type": "code",
   "execution_count": null,
   "id": "turned-starter",
   "metadata": {},
   "outputs": [],
   "source": [
    "# labels = labels_all\n",
    "\n",
    "path_to_filtered_data = '/Users/gautam.sridhar/Documents/Repos/ZebraBouts/Results/'\n",
    "f = h5py.File(path_to_filtered_data + 'pool_ex7_PCs/simlabels_fish_K5_N1200_tau3_cg4.h5')\n",
    "sims_fishnum = ma.asarray(f['MetaData/simfishes'], dtype=int)\n",
    "lengths_sims = ma.asarray(f['MetaData/lengths_sims'], dtype=int)\n",
    "sims_fish = ma.asarray(f['sim_labels'], dtype=int)\n",
    "f.close()\n",
    "to_mask = 1300\n",
    "\n",
    "sims_fish[sims_fish == to_mask] = ma.masked"
   ]
  },
  {
   "cell_type": "code",
   "execution_count": null,
   "id": "controlled-graphics",
   "metadata": {},
   "outputs": [],
   "source": [
    "kms = np.load('/Users/gautam.sridhar/Documents/Repos/ZebraBouts/Results/pool_ex8_PCs/cg4_labels.npy')"
   ]
  },
  {
   "cell_type": "code",
   "execution_count": null,
   "id": "statewide-talent",
   "metadata": {},
   "outputs": [],
   "source": [
    "kmeans_labels = kms"
   ]
  },
  {
   "cell_type": "code",
   "execution_count": null,
   "id": "bound-freeze",
   "metadata": {},
   "outputs": [],
   "source": [
    "cluster_traj_all = ma.copy(final_labels)\n",
    "cluster_traj_all[~final_labels.mask] = ma.array(kmeans_labels)[final_labels[~final_labels.mask]]\n",
    "cluster_traj_all[final_labels.mask] = ma.masked\n",
    "cluster_fish = cluster_traj_all.reshape(labels_fish.shape[0],labels_fish.shape[1])\n",
    "cluster_fish_mask = cluster_fish.mask"
   ]
  },
  {
   "cell_type": "code",
   "execution_count": null,
   "id": "theoretical-album",
   "metadata": {},
   "outputs": [],
   "source": [
    "lifetimes_fish = [[],[],[],[],[],[],[]]\n",
    "n_state = 4\n",
    "\n",
    "for cf in range(cluster_fish.shape[0]):\n",
    "    cluster_fish[cf,0] = ma.masked\n",
    "    cluster_fish[cf,lengths_rem[cf]-1] = ma.masked\n",
    "    data_lifetimes, state_labels = stats.state_lifetime(cluster_fish[cf,::3],3)\n",
    "    for k,ks in enumerate(state_labels):\n",
    "        lifetimes_fish[ks].append(data_lifetimes[k])\n",
    "    \n",
    "    if len(state_labels) < n_state:\n",
    "        exc_state_labels = np.delete(np.arange(n_state),state_labels)\n",
    "        for k,ks in enumerate(exc_state_labels):\n",
    "            lifetimes_fish[ks].append([0])"
   ]
  },
  {
   "cell_type": "code",
   "execution_count": null,
   "id": "sensitive-tuning",
   "metadata": {},
   "outputs": [],
   "source": [
    "y_errorbar_metastate, x_all_metastate, m_all_metastate, b_all_metastate, tscales_metastate, params_metastate, mean_lifetimes = stats.state_lifetimes_stats(lifetimes_fish, n_states=2, t0=0, tf=1500 ,n_times=100)"
   ]
  },
  {
   "cell_type": "code",
   "execution_count": null,
   "id": "eligible-recruitment",
   "metadata": {},
   "outputs": [],
   "source": [
    "sims_lifetimes_fish = [[],[],[],[],[],[],[]]\n",
    "n_state = 2\n",
    "for cf in range(sims_fish.shape[1]):\n",
    "    print(cf)\n",
    "    sf = sims_fish[:,cf,:lengths_rem[cf]].squeeze()\n",
    "    sf[:,0] = ma.masked\n",
    "    sf[:,-1] = ma.masked\n",
    "    sf = ma.concatenate(sims_fish[:,cf,:lengths_rem[cf]].squeeze(), axis=0)\n",
    "    data_lifetimes, state_labels = stats.state_lifetime(sf,3)\n",
    "    for k,ks in enumerate(state_labels):\n",
    "        sims_lifetimes_fish[ks].append(data_lifetimes[k])\n",
    "        \n",
    "    if len(state_labels) < n_state:\n",
    "        print(len(state_labels))\n",
    "        exc_state_labels = np.delete(np.arange(n_state),state_labels)\n",
    "        for k,ks in enumerate(exc_state_labels):\n",
    "            sims_lifetimes_fish[ks].append([0])"
   ]
  },
  {
   "cell_type": "code",
   "execution_count": null,
   "id": "frozen-collar",
   "metadata": {},
   "outputs": [],
   "source": [
    "y_errorbar_metastate_sims, x_all_metastate_sims, m_all_metastate, b_all_metastate, tscales_metastate, params_metastate, mean_lifetimes = stats.state_lifetimes_stats(sims_lifetimes_fish, n_states=2,t0=0,tf=1500, n_times=100)"
   ]
  },
  {
   "cell_type": "code",
   "execution_count": null,
   "id": "deadly-driving",
   "metadata": {},
   "outputs": [],
   "source": [
    "fig,ax = plt.subplots(1,1, figsize=(12.5,12.5))\n",
    "\n",
    "t0,tf = 1,600\n",
    "\n",
    "xrange = np.linspace(t0,tf,160)\n",
    "\n",
    "sim_markers = ['o','s']\n",
    "\n",
    "# st_names = ['Metastate 1', 'Metastate 2']\n",
    "\n",
    "# for state_idx in np.unique(kmeans_labels):\n",
    "#     x,y = stats.cumulative_dist(data_f_lt[state_idx],[0,1000])\n",
    "#     y = np.array([np.mean(y[x==x_unique]) for x_u nique in np.unique(x)])\n",
    "#     x = np.sort(np.unique(x))\n",
    "#     plt.plot(x,1-y,lw=2,ls='--',c=st_colors[state_idx])\n",
    "\n",
    "for ms in [0,1]:#np.unique(cluster_traj_all.compressed()):\n",
    "\n",
    "    mean = y_errorbar_metastate[ms][:-1,0]\n",
    "    cil = y_errorbar_metastate[ms][:-1,1]\n",
    "    ciu = y_errorbar_metastate[ms][:-1,2]\n",
    "    \n",
    "    mean_sim = y_errorbar_metastate_sims[ms][:-1,0]\n",
    "    cil_sim = y_errorbar_metastate_sims[ms][:-1,1]\n",
    "    ciu_sim = y_errorbar_metastate_sims[ms][:-1,2]\n",
    "    \n",
    "    ax.scatter(x_all_metastate[ms][:-1], mean, marker='^',s=50, color='C{}'.format(ms))#,label = r'Mean Duration$_{} = {}$ Bouts'.format({st_names2[ms][0:2]}, round(mean_lifetimes[ms],2)))\n",
    "    ax.errorbar(x_all_metastate[ms][:-1], mean,[mean-cil, ciu - mean], fmt='.', capsize=10, color = 'C{}'.format(ms), alpha=0.4)\n",
    "\n",
    "    ax.scatter(x_all_metastate_sims[ms][:-1], mean_sim,s=100, marker='o',facecolors='none', edgecolors='C{}'.format(ms))\n",
    "    ax.fill_between(x_all_metastate_sims[ms][:-1], cil_sim, ciu_sim, alpha=0.3, color='C{}'.format(ms))\n",
    "    \n",
    "ax.spines['top'].set_visible(False)\n",
    "ax.spines['right'].set_visible(False)\n",
    "ax.set_yscale('log')\n",
    "# ax.set_title('Actual and Simulated dwell times', fontsize=35)\n",
    "ax.set_xscale('log')\n",
    "ax.set_xlabel(r'Number of states',fontsize=40)\n",
    "ax.set_ylabel(r'Complementary CDF (log scale)',fontsize= 40)\n",
    "ax.legend(loc=\"upper left\",bbox_to_anchor=(0.4, 0.96), fontsize=30)\n",
    "plt.xticks(fontsize=30)\n",
    "plt.yticks(fontsize=30)\n",
    "# ax.set_xlim(1,1000)\n",
    "# ax.set_ylim(5e-6,1) \n",
    "\n",
    "# plt.savefig('/Users/gautam.sridhar/Documents/ZENITH/Figures/Suppl4/2state_dwelltime_dist.pdf')\n",
    "plt.show()"
   ]
  },
  {
   "cell_type": "code",
   "execution_count": null,
   "id": "experienced-manhattan",
   "metadata": {},
   "outputs": [],
   "source": [
    "hr_sims = [[],[],[],[],[],[],[]]\n",
    "sims_ciu = [[],[],[],[],[],[],[]]\n",
    "sims_cil = [[],[],[],[],[],[],[]]\n",
    "for ms in np.unique(cluster_traj_all.compressed()):\n",
    "    dwell_times_sims = sims_lifetimes_fish[ms]\n",
    "    dwell_times_real = lifetimes_fish[ms]\n",
    "    for cf in range(len(dwell_times_real)):\n",
    "        print(cf)\n",
    "        m, cil, ciu = stats.bootstrap(ma.hstack(dwell_times_sims[cf]), n_times=100, n_samples=len(ma.hstack(dwell_times_real[cf])))\n",
    "        hr_sims[ms].append(m)\n",
    "        sims_cil[ms].append(np.hstack(cil))\n",
    "        sims_ciu[ms].append(np.hstack(ciu))"
   ]
  },
  {
   "cell_type": "code",
   "execution_count": null,
   "id": "distributed-textbook",
   "metadata": {},
   "outputs": [],
   "source": [
    "hr_real = [[],[],[],[],[],[],[]]\n",
    "real_ciu = [[],[],[],[],[],[],[]]\n",
    "real_cil = [[],[recs_remove],[],[],[]]\n",
    "for ms in np.unique(cluster_traj_all.compressed()):\n",
    "    dwell_times_real = lifetimes_fish[ms]\n",
    "    for cf in range(len(dwell_times_real)):\n",
    "        print(cf)\n",
    "        m, cil, ciu = stats.bootstrap(ma.hstack(dwell_times_real[cf]), n_times=100, n_samples=len(ma.hstack(dwell_times_real[cf])))\n",
    "        hr_real[ms].append(m)\n",
    "        real_cil[ms].append(np.hstack(cil))\n",
    "        real_ciu[ms].append(np.hstack(ciu))"
   ]
  },
  {
   "cell_type": "code",
   "execution_count": null,
   "id": "veterinary-collins",
   "metadata": {},
   "outputs": [],
   "source": [
    "fig, ax = plt.subplots(1,1,figsize=(12.5,12.5))\n",
    "\n",
    "\n",
    "for ms in [0,1]:\n",
    "    print(ms)\n",
    "    ax.scatter(np.asarray(hr_real[ms]),np.asarray(hr_sims[ms]), c = st_colors[ms], s=100, alpha=.6, marker='o')\n",
    "    ax.errorbar(np.asarray(hr_real[ms]),np.asarray(hr_sims[ms]), \n",
    "                yerr=[np.array(hr_sims[ms]) - np.hstack(sims_cil[ms]),np.hstack(sims_ciu[ms]) - np.hstack(hr_sims[ms])], \n",
    "                elinewidth=3, capsize=5, fmt='o', color=st_colors[ms], alpha=0.15)\n",
    "    ax.errorbar(np.asarray(hr_real[ms]),np.asarray(hr_sims[ms]), \n",
    "                xerr=[np.array(hr_real[ms]) - np.hstack(real_cil[ms]),np.hstack(real_ciu[ms]) - np.hstack(hr_real[ms])], \n",
    "                elinewidth=3, capsize=5, fmt='o', color=st_colors[ms], alpha=0.15)\n",
    "\n",
    "\n",
    "ax.plot(np.arange(1,1000), np.arange(1,1000), ls = '--', c='k')\n",
    "\n",
    "ax.set_xscale('log')\n",
    "ax.set_yscale('log')\n",
    "plt.xticks(fontsize=35)\n",
    "plt.yticks(fontsize=35)\n",
    "# plt.savefig('/Users/gautam.sridhar/Documents/ZENITH/Figures/suppl4/sims_7state_hr_new.pdf')"
   ]
  },
  {
   "cell_type": "markdown",
   "id": "consolidated-frank",
   "metadata": {},
   "source": [
    "## Simulations at q=7"
   ]
  },
  {
   "cell_type": "code",
   "execution_count": null,
   "id": "preliminary-cheat",
   "metadata": {},
   "outputs": [],
   "source": [
    "st_colors = ['#006FB8','#313390','#52C1AF','#00B4F0','#F4BD48','#FBDD2B','#8D2B24']"
   ]
  },
  {
   "cell_type": "code",
   "execution_count": null,
   "id": "recognized-group",
   "metadata": {},
   "outputs": [],
   "source": [
    "# labels = labels_all\n",
    "\n",
    "path_to_filtered_data = '/Users/gautam.sridhar/Documents/Repos/ZebraBouts/Results/'\n",
    "f = h5py.File(path_to_filtered_data + 'pool_ex7_PCs/simlabels_fish_K5_N1200_tau3_cg7.h5')\n",
    "sims_fishnum = ma.asarray(f['MetaData/simfishes'], dtype=int)\n",
    "lengths_sims = ma.asarray(f['MetaData/lengths_sims'], dtype=int)\n",
    "sims_fish = ma.asarray(f['sim_labels'], dtype=int)\n",
    "f.close()\n",
    "to_mask = 1300\n",
    "\n",
    "sims_fish[sims_fish == to_mask] = ma.masked"
   ]
  },
  {
   "cell_type": "code",
   "execution_count": null,
   "id": "middle-input",
   "metadata": {},
   "outputs": [],
   "source": [
    "kms = np.load('/Users/gautam.sridhar/Documents/Repos/ZebraBouts/Results/pool_ex8_PCs/cg7_labels.npy')"
   ]
  },
  {
   "cell_type": "code",
   "execution_count": null,
   "id": "sustainable-indonesian",
   "metadata": {},
   "outputs": [],
   "source": [
    "kmeans_labels = kms"
   ]
  },
  {
   "cell_type": "code",
   "execution_count": null,
   "id": "supported-nickname",
   "metadata": {},
   "outputs": [],
   "source": [
    "cluster_traj_all = ma.copy(final_labels)\n",
    "cluster_traj_all[~final_labels.mask] = ma.array(kmeans_labels)[final_labels[~final_labels.mask]]\n",
    "cluster_traj_all[final_labels.mask] = ma.masked\n",
    "cluster_fish = cluster_traj_all.reshape(labels_fish.shape[0],labels_fish.shape[1])\n",
    "cluster_fish_mask = cluster_fish.mask"
   ]
  },
  {
   "cell_type": "code",
   "execution_count": null,
   "id": "alien-village",
   "metadata": {},
   "outputs": [],
   "source": [
    "lifetimes_fish = [[],[],[],[],[],[],[]]\n",
    "n_state = 4\n",
    "\n",
    "for cf in range(cluster_fish.shape[0]):\n",
    "    cluster_fish[cf,0] = ma.masked\n",
    "    cluster_fish[cf,lengths_rem[cf]-1] = ma.masked\n",
    "    data_lifetimes, state_labels = stats.state_lifetime(cluster_fish[cf,::3],3)\n",
    "    for k,ks in enumerate(state_labels):\n",
    "        lifetimes_fish[ks].append(data_lifetimes[k])\n",
    "    \n",
    "    if len(state_labels) < n_state:\n",
    "        exc_state_labels = np.delete(np.arange(n_state),state_labels)\n",
    "        for k,ks in enumerate(exc_state_labels):\n",
    "            lifetimes_fish[ks].append([0])"
   ]
  },
  {
   "cell_type": "code",
   "execution_count": null,
   "id": "worthy-paraguay",
   "metadata": {},
   "outputs": [],
   "source": [
    "y_errorbar_metastate, x_all_metastate, m_all_metastate, b_all_metastate, tscales_metastate, params_metastate, mean_lifetimes = stats.state_lifetimes_stats(lifetimes_fish, n_states=2, t0=0, tf=1500 ,n_times=100)"
   ]
  },
  {
   "cell_type": "code",
   "execution_count": null,
   "id": "fresh-klein",
   "metadata": {},
   "outputs": [],
   "source": [
    "sims_lifetimes_fish = [[],[],[],[],[],[],[]]\n",
    "n_state = 2\n",
    "for cf in range(sims_fish.shape[1]):\n",
    "    print(cf)\n",
    "    sf = sims_fish[:,cf,:lengths_rem[cf]].squeeze()\n",
    "    sf[:,0] = ma.masked\n",
    "    sf[:,-1] = ma.masked\n",
    "    sf = ma.concatenate(sims_fish[:,cf,:lengths_rem[cf]].squeeze(), axis=0)\n",
    "    data_lifetimes, state_labels = stats.state_lifetime(sf,3)\n",
    "    for k,ks in enumerate(state_labels):\n",
    "        sims_lifetimes_fish[ks].append(data_lifetimes[k])\n",
    "        \n",
    "    if len(state_labels) < n_state:\n",
    "        print(len(state_labels))\n",
    "        exc_state_labels = np.delete(np.arange(n_state),state_labels)\n",
    "        for k,ks in enumerate(exc_state_labels):\n",
    "            sims_lifetimes_fish[ks].append([0])"
   ]
  },
  {
   "cell_type": "code",
   "execution_count": null,
   "id": "developed-vampire",
   "metadata": {},
   "outputs": [],
   "source": [
    "y_errorbar_metastate_sims, x_all_metastate_sims, m_all_metastate, b_all_metastate, tscales_metastate, params_metastate, mean_lifetimes = stats.state_lifetimes_stats(sims_lifetimes_fish, n_states=2,t0=0,tf=1500, n_times=100)"
   ]
  },
  {
   "cell_type": "code",
   "execution_count": null,
   "id": "engaged-belfast",
   "metadata": {},
   "outputs": [],
   "source": [
    "fig,ax = plt.subplots(1,1, figsize=(12.5,12.5))\n",
    "\n",
    "t0,tf = 1,600\n",
    "\n",
    "xrange = np.linspace(t0,tf,160)\n",
    "\n",
    "sim_markers = ['o','s']\n",
    "\n",
    "# st_names = ['Metastate 1', 'Metastate 2']\n",
    "\n",
    "# for state_idx in np.unique(kmeans_labels):\n",
    "#     x,y = stats.cumulative_dist(data_f_lt[state_idx],[0,1000])\n",
    "#     y = np.array([np.mean(y[x==x_unique]) for x_u nique in np.unique(x)])\n",
    "#     x = np.sort(np.unique(x))\n",
    "#     plt.plot(x,1-y,lw=2,ls='--',c=st_colors[state_idx])\n",
    "\n",
    "for ms in [0,1]:#np.unique(cluster_traj_all.compressed()):\n",
    "\n",
    "    mean = y_errorbar_metastate[ms][:-1,0]\n",
    "    cil = y_errorbar_metastate[ms][:-1,1]\n",
    "    ciu = y_errorbar_metastate[ms][:-1,2]\n",
    "    \n",
    "    mean_sim = y_errorbar_metastate_sims[ms][:-1,0]\n",
    "    cil_sim = y_errorbar_metastate_sims[ms][:-1,1]\n",
    "    ciu_sim = y_errorbar_metastate_sims[ms][:-1,2]\n",
    "    \n",
    "    ax.scatter(x_all_metastate[ms][:-1], mean, marker='^',s=50, color='C{}'.format(ms))#,label = r'Mean Duration$_{} = {}$ Bouts'.format({st_names2[ms][0:2]}, round(mean_lifetimes[ms],2)))\n",
    "    ax.errorbar(x_all_metastate[ms][:-1], mean,[mean-cil, ciu - mean], fmt='.', capsize=10, color = 'C{}'.format(ms), alpha=0.4)\n",
    "\n",
    "    ax.scatter(x_all_metastate_sims[ms][:-1], mean_sim,s=100, marker='o',facecolors='none', edgecolors='C{}'.format(ms))\n",
    "    ax.fill_between(x_all_metastate_sims[ms][:-1], cil_sim, ciu_sim, alpha=0.3, color='C{}'.format(ms))\n",
    "    \n",
    "ax.spines['top'].set_visible(False)\n",
    "ax.spines['right'].set_visible(False)\n",
    "ax.set_yscale('log')\n",
    "# ax.set_title('Actual and Simulated dwell times', fontsize=35)\n",
    "ax.set_xscale('log')\n",
    "ax.set_xlabel(r'Number of states',fontsize=40)\n",
    "ax.set_ylabel(r'Complementary CDF (log scale)',fontsize= 40)\n",
    "ax.legend(loc=\"upper left\",bbox_to_anchor=(0.4, 0.96), fontsize=30)\n",
    "plt.xticks(fontsize=30)\n",
    "plt.yticks(fontsize=30)\n",
    "# ax.set_xlim(1,1000)\n",
    "# ax.set_ylim(5e-6,1) \n",
    "\n",
    "# plt.savefig('/Users/gautam.sridhar/Documents/ZENITH/Figures/Suppl4/2state_dwelltime_dist.pdf')\n",
    "plt.show()"
   ]
  },
  {
   "cell_type": "code",
   "execution_count": null,
   "id": "threatened-runner",
   "metadata": {},
   "outputs": [],
   "source": [
    "hr_sims = [[],[],[],[],[],[],[]]\n",
    "sims_ciu = [[],[],[],[],[],[],[]]\n",
    "sims_cil = [[],[],[],[],[],[],[]]\n",
    "for ms in np.unique(cluster_traj_all.compressed()):\n",
    "    dwell_times_sims = sims_lifetimes_fish[ms]\n",
    "    dwell_times_real = lifetimes_fish[ms]\n",
    "    for cf in range(len(dwell_times_real)):\n",
    "        print(cf)\n",
    "        m, cil, ciu = stats.bootstrap(ma.hstack(dwell_times_sims[cf]), n_times=100, n_samples=len(ma.hstack(dwell_times_real[cf])))\n",
    "        hr_sims[ms].append(m)\n",
    "        sims_cil[ms].append(np.hstack(cil))\n",
    "        sims_ciu[ms].append(np.hstack(ciu))"
   ]
  },
  {
   "cell_type": "code",
   "execution_count": null,
   "id": "minimal-literacy",
   "metadata": {},
   "outputs": [],
   "source": [
    "hr_real = [[],[],[],[],[],[],[]]\n",
    "real_ciu = [[],[],[],[],[],[],[]]\n",
    "real_cil = [[],[recs_remove],[],[],[]]\n",
    "for ms in np.unique(cluster_traj_all.compressed()):\n",
    "    dwell_times_real = lifetimes_fish[ms]\n",
    "    for cf in range(len(dwell_times_real)):\n",
    "        print(cf)\n",
    "        m, cil, ciu = stats.bootstrap(ma.hstack(dwell_times_real[cf]), n_times=100, n_samples=len(ma.hstack(dwell_times_real[cf])))\n",
    "        hr_real[ms].append(m)\n",
    "        real_cil[ms].append(np.hstack(cil))\n",
    "        real_ciu[ms].append(np.hstack(ciu))"
   ]
  },
  {
   "cell_type": "code",
   "execution_count": null,
   "id": "inclusive-administrator",
   "metadata": {},
   "outputs": [],
   "source": [
    "fig, ax = plt.subplots(1,1,figsize=(12.5,12.5))\n",
    "\n",
    "\n",
    "for ms in [0,1]:\n",
    "    print(ms)\n",
    "    ax.scatter(np.asarray(hr_real[ms]),np.asarray(hr_sims[ms]), c = st_colors[ms], s=100, alpha=.6, marker='o')\n",
    "    ax.errorbar(np.asarray(hr_real[ms]),np.asarray(hr_sims[ms]), \n",
    "                yerr=[np.array(hr_sims[ms]) - np.hstack(sims_cil[ms]),np.hstack(sims_ciu[ms]) - np.hstack(hr_sims[ms])], \n",
    "                elinewidth=3, capsize=5, fmt='o', color=st_colors[ms], alpha=0.15)\n",
    "    ax.errorbar(np.asarray(hr_real[ms]),np.asarray(hr_sims[ms]), \n",
    "                xerr=[np.array(hr_real[ms]) - np.hstack(real_cil[ms]),np.hstack(real_ciu[ms]) - np.hstack(hr_real[ms])], \n",
    "                elinewidth=3, capsize=5, fmt='o', color=st_colors[ms], alpha=0.15)\n",
    "\n",
    "\n",
    "ax.plot(np.arange(1,1000), np.arange(1,1000), ls = '--', c='k')\n",
    "\n",
    "ax.set_xscale('log')\n",
    "ax.set_yscale('log')\n",
    "plt.xticks(fontsize=35)\n",
    "plt.yticks(fontsize=35)\n",
    "# plt.savefig('/Users/gautam.sridhar/Documents/ZENITH/Figures/suppl4/sims_7state_hr_new.pdf')"
   ]
  }
 ],
 "metadata": {
  "kernelspec": {
   "display_name": "Python 3",
   "language": "python",
   "name": "python3"
  },
  "language_info": {
   "codemirror_mode": {
    "name": "ipython",
    "version": 3
   },
   "file_extension": ".py",
   "mimetype": "text/x-python",
   "name": "python",
   "nbconvert_exporter": "python",
   "pygments_lexer": "ipython3",
   "version": "3.8.2"
  }
 },
 "nbformat": 4,
 "nbformat_minor": 5
}
