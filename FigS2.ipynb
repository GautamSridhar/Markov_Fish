{
 "cells": [
  {
   "cell_type": "code",
   "execution_count": null,
   "id": "integral-threshold",
   "metadata": {},
   "outputs": [],
   "source": [
    "#data format library\n",
    "import h5py\n",
    "\n",
    "#numpy\n",
    "import numpy as np\n",
    "import pandas as pd\n",
    "import numpy.ma as ma\n",
    "%matplotlib inline\n",
    "import matplotlib\n",
    "import matplotlib.pyplot as plt\n",
    "import matplotlib as mpl\n",
    "new_rc_params = {'text.usetex': False,\n",
    "\"svg.fonttype\": 'none'\n",
    "}\n",
    "mpl.rcParams.update(new_rc_params)\n",
    "plt.rcParams[\"font.family\"] = \"Times New Roman\"\n",
    "# %matplotlib notebook\n",
    "import sys\n",
    "sys.path.append('/Users/gautam.sridhar/Documents/Repos/Markov_Fish/utils/')\n",
    "import matplotlib.colors as pltcolors\n",
    "import os\n",
    "import copy\n",
    "import clustering_methods as cl\n",
    "import operator_calculations as op_calc\n",
    "import delay_embedding as embed\n",
    "import stats\n",
    "import time\n",
    "\n",
    "np.random.seed(42)\n",
    "\n",
    "import importlib\n",
    "importlib.reload(op_calc)"
   ]
  },
  {
   "cell_type": "code",
   "execution_count": null,
   "id": "moral-protest",
   "metadata": {},
   "outputs": [],
   "source": [
    "path_to_filtered_data = '/Users/gautam.sridhar/Documents/Repos/ZebraBouts/Datasets/Full_Data/'\n",
    "f = h5py.File(path_to_filtered_data+'filtered_jmpool_ex5_kin.h5','r')\n",
    "lengths = np.array(f['MetaData/lengths_data'],dtype=int)\n",
    "bouttypes= ma.array(f['bout_types'], dtype=int)\n",
    "# stims = ma.array(f['stims'])\n",
    "# ecs = ma.array(f['eye_convergence'])\n",
    "\n",
    "##shapes are n_fish, max_n_bouts,dim of variable\n",
    "\n",
    "bouttypes_allcond= ma.array(f['bout_types'])\n",
    "stims_allcond = ma.array(f['stims'])\n",
    "ecs_allcond = ma.array(f['eye_convergence'])\n",
    "time_Bout_allcond = ma.array(f['times_bouts']) #raw times bouts\n",
    "\n",
    "#shapes are n_fish, max_n_bouts,dim of variable\n",
    "X_head_allcond = ma.array(f['head_pos'])\n",
    "phi_smooth_allcond = ma.array(f['orientation_smooth'])\n",
    "speeds_head_allcond = ma.array(f['speed_head'])\n",
    "f.close()"
   ]
  },
  {
   "cell_type": "code",
   "execution_count": null,
   "id": "thousand-attendance",
   "metadata": {},
   "outputs": [],
   "source": [
    "time_Bout_allcond[time_Bout_allcond == 0] = ma.masked\n",
    "X_head_allcond[X_head_allcond == 0] = ma.masked\n",
    "phi_smooth_allcond[phi_smooth_allcond == 0] = ma.masked\n",
    "speeds_head_allcond[phi_smooth_allcond.mask] = ma.masked\n",
    "bouttypes_allcond[bouttypes_allcond == 15] = ma.masked\n",
    "ecs_allcond[ecs_allcond == 100] = ma.masked"
   ]
  },
  {
   "cell_type": "code",
   "execution_count": null,
   "id": "divine-syracuse",
   "metadata": {},
   "outputs": [],
   "source": [
    "condition_labels = ['Light (5x5cm)','Light (1x5cm)','Looming(5x5cm)','ChasingDot coarsespeeds(5x5cm)','ChasingDot finespeeds(5x5cm)','Dark_Transitions(5x5cm)',\n",
    "                    'Phototaxis','Optomotor Response (1x5cm)','Optokinetic Response (5x5cm)','Dark (5x5cm)','3 min Light<->Dark(5x5cm)',\n",
    "                    'Prey Capture Param. (2.5x2.5cm)','Prey Capture Param. RW. (2.5x2.5cm)',\n",
    "                    'Prey Capture Rot.(2.5x2.5cm)','Prey capture Rot. RW. (2.5x2.5cm)','Light RW. (2.5x2.5cm)']\n",
    "\n",
    "condition_recs = np.array([[515,525],[160,172],[87,148],[43,60],[22,43],[60,87],\n",
    "                           [202,232],[148,160],[172,202],[505,515],[0,22],\n",
    "                           [232,301],[347,445],[301,316],[316,347],\n",
    "                           [445,505]])"
   ]
  },
  {
   "cell_type": "code",
   "execution_count": null,
   "id": "intimate-ownership",
   "metadata": {},
   "outputs": [],
   "source": [
    "conditions = np.zeros((np.max(condition_recs),2),dtype='object')\n",
    "for k in range(len(condition_recs)):\n",
    "    t0,tf = condition_recs[k]\n",
    "    conditions[t0:tf,0] = np.arange(t0,tf)\n",
    "    conditions[t0:tf,1] = [condition_labels[k] for t in range(t0,tf)]"
   ]
  },
  {
   "cell_type": "code",
   "execution_count": null,
   "id": "brutal-lincoln",
   "metadata": {},
   "outputs": [],
   "source": [
    "recs_remove = np.load('/Users/gautam.sridhar/Documents/Repos/ZebraBouts/Datasets/Full_Data/recs_remove.npy')"
   ]
  },
  {
   "cell_type": "code",
   "execution_count": null,
   "id": "hindu-broadcasting",
   "metadata": {},
   "outputs": [],
   "source": [
    "recs_remove = np.hstack([recs_remove, np.arange(22,60)])"
   ]
  },
  {
   "cell_type": "code",
   "execution_count": null,
   "id": "precious-marker",
   "metadata": {},
   "outputs": [],
   "source": [
    "print(recs_remove)"
   ]
  },
  {
   "cell_type": "code",
   "execution_count": null,
   "id": "auburn-classification",
   "metadata": {},
   "outputs": [],
   "source": [
    "## Load symbolic sequences\n",
    "\n",
    "path_to_filtered_data = '/Users/gautam.sridhar/Documents/Repos/Markov_Fish/Datasets/JM_Data/'\n",
    "f = h5py.File(path_to_filtered_data + 'pool_ex8_PCs/kmeans_labels_K5_N1200_s8684.h5')\n",
    "lengths_all = np.array(f['MetaData/lengths_data'], dtype=int)\n",
    "labels_fish_allrec = ma.array(f['labels_fish'],dtype=int)\n",
    "state_trajs = ma.array(f['state_trajs'])\n",
    "f.close()\n",
    "\n",
    "# lengths_all = np.load('/Users/gautam.sridhar/Documents/Repos/ZebraBouts/Datasets/Full_Data/lengths_ex2_recordings.npy')\n",
    "# lengths_all = lengths"
   ]
  },
  {
   "cell_type": "code",
   "execution_count": null,
   "id": "civil-brazilian",
   "metadata": {},
   "outputs": [],
   "source": [
    "to_mask = 1300\n",
    "maxL = np.max(lengths_all)\n",
    "\n",
    "labels_fish_allrec[labels_fish_allrec == to_mask] = ma.masked\n",
    "labels_fish = labels_fish_allrec\n",
    "\n",
    "lengths_rem = lengths_all"
   ]
  },
  {
   "cell_type": "code",
   "execution_count": null,
   "id": "perfect-luxury",
   "metadata": {},
   "outputs": [],
   "source": [
    "## Select Dataset\n",
    "np.random.seed(42)\n",
    "seeds = np.random.randint(0,10000,100)\n",
    "delay_range = np.arange(1,20,1)\n",
    "dt = 1\n",
    "div= 463\n",
    "n_modes=50\n",
    "labels_all= ma.concatenate(labels_fish,axis=0)\n",
    "print(labels_fish.shape)"
   ]
  },
  {
   "cell_type": "code",
   "execution_count": null,
   "id": "offshore-point",
   "metadata": {},
   "outputs": [],
   "source": [
    "def sampler(labels_fish, conditions ,lengths_all, window_size, to_mask, s):\n",
    "    np.random.seed(s)\n",
    "    condition_labels = ['Light (5x5cm)','Light (1x5cm)','Looming(5x5cm)','Dark_Transitions(5x5cm)',\n",
    "                    'Phototaxis','Optomotor Response (1x5cm)','Optokinetic Response (5x5cm)','Dark (5x5cm)','3 min Light<->Dark(5x5cm)',\n",
    "                    'Prey Capture Param. (2.5x2.5cm)','Prey Capture Param. RW. (2.5x2.5cm)',\n",
    "                    'Prey Capture Rot.(2.5x2.5cm)','Prey capture Rot. RW. (2.5x2.5cm)','Light RW. (2.5x2.5cm)']\n",
    "    sampled_labels = []\n",
    "    for cond in condition_labels:\n",
    "        cond_recs = np.where(conditions[:,1] == cond)[0]\n",
    "        samples_ = to_mask*ma.ones((window_size+4,), dtype=int)\n",
    "        labels_cond = labels_fish[cond_recs]\n",
    "        rec_list = []\n",
    "        for i, l in enumerate(lengths_all[cond_recs]):\n",
    "            labels_cond[i,l-2:l] = ma.masked\n",
    "            rec_list.append(labels_cond[i,:l])\n",
    "        \n",
    "        labels_ = ma.hstack(rec_list)\n",
    "        start_pos = np.random.randint(0, len(labels_)-window_size)\n",
    "        \n",
    "        samples_[2:-2] = labels_[start_pos:start_pos+window_size]\n",
    "        samples_[samples_==to_mask] = ma.masked\n",
    "        sampled_labels.append(samples_)\n",
    "    return sampled_labels"
   ]
  },
  {
   "cell_type": "code",
   "execution_count": null,
   "id": "faced-digest",
   "metadata": {},
   "outputs": [],
   "source": [
    "## Calculate implied timescales by sampling similar number of bouts from each condition\n",
    "\n",
    "ts_traj_delay = ma.zeros((seeds.shape[0],len(delay_range),n_modes))\n",
    "eigvals_shuffle = ma.zeros((seeds.shape[0],n_modes-1))\n",
    "\n",
    "window_size = 7500\n",
    "\n",
    "for i,s in enumerate(seeds):\n",
    "    print(s)\n",
    "    labels_bootstrap = sampler(labels_fish, conditions,lengths_rem, window_size, to_mask, s)\n",
    "    labels_ = ma.hstack(labels_bootstrap)\n",
    "    nstates = ma.max(labels_) + 1\n",
    "    segments = op_calc.segment_maskedArray(labels_)\n",
    "\n",
    "    dtrajs = np.asarray([labels_[t0:tf] for t0,tf in segments])\n",
    "    if ma.count(labels_)>20:\n",
    "        for kd,delay in enumerate(delay_range):\n",
    "            ts_traj_delay[i,kd,:] = op_calc.implied_tscale_shuffle(dtrajs,nstates,delay,dt,n_modes,reversible=True)\n",
    "#     labels_shuffle = labels_[np.random.choice(np.arange(len(labels_)),len(labels_))]\n",
    "#     P_shuffle = op_calc.transition_matrix(labels_shuffle,1)\n",
    "    P_shuffle = op_calc.transition_matrix_shuffle(dtrajs,1)\n",
    "    R_shuffle = op_calc.get_reversible_transition_matrix(P_shuffle)\n",
    "    eigvals,eigvecs = op_calc.sorted_spectrum(R_shuffle,k=n_modes)\n",
    "    sorted_indices = np.argsort(eigvals.real)[::-1]\n",
    "    eigvals = eigvals[sorted_indices][1:].real\n",
    "    eigvals[np.abs(eigvals-1)<1e-12] = np.nan\n",
    "    eigvals[eigvals<1e-12] = np.nan\n",
    "    eigvals_shuffle[i,:] = eigvals"
   ]
  },
  {
   "cell_type": "code",
   "execution_count": null,
   "id": "antique-opportunity",
   "metadata": {},
   "outputs": [],
   "source": [
    "ts_traj_delay[ts_traj_delay==0] = ma.masked\n",
    "eigvals_shuffle[eigvals_shuffle == 0] = ma.masked \n",
    "\n",
    "## Use if sampling similar number of bouts from each condition\n",
    "\n",
    "ts_traj_delay_total = ts_traj_delay\n",
    "eigvals_shuffle_total = eigvals_shuffle\n",
    "\n",
    "print(ts_traj_delay_total.shape)\n",
    "print(eigvals_shuffle_total.shape)"
   ]
  },
  {
   "cell_type": "code",
   "execution_count": null,
   "id": "drawn-importance",
   "metadata": {},
   "outputs": [],
   "source": [
    "# Fig S2a - time scales for tau\n",
    "colors_ = plt.cm.Reds_r(np.linspace(0,1,50))\n",
    "\n",
    "fig, ax = plt.subplots(1,1,figsize=(10,10))\n",
    "for mode in range(n_modes):\n",
    "    mean = ma.mean(ts_traj_delay_total[:,:,mode],axis=0)\n",
    "    mean,cil,ciu=stats.bootstrap(ts_traj_delay_total[:,:,mode].squeeze(),median=False,n_times=1000)\n",
    "    ax.plot(delay_range*dt,mean,c=colors_[mode], marker='*')\n",
    "    ax.errorbar(delay_range*dt, mean,[mean-cil, ciu - mean], marker='o', capsize=4, color = colors_[mode])\n",
    "\n",
    "tscales_shuffle = np.array([-d/np.log(eigvals_shuffle_total[:,0]) for d in delay_range])\n",
    "mean,cil,ciu=stats.bootstrap((tscales_shuffle.T),n_times=1000)\n",
    "\n",
    "ax.plot(delay_range*dt,mean,c='k',alpha=.5,ls='--', label='Noise Floor')\n",
    "ax.fill_between(delay_range*dt,cil,ciu,color='k',alpha=.3)\n",
    "ax.legend(fontsize = 30)\n",
    "ax.set_xlabel(r'$\\tau$ (States)',fontsize=30)\n",
    "ax.set_ylabel(r'$t^{imp} (\\tau)$',fontsize=40)\n",
    "ax.spines['top'].set_visible(False)\n",
    "ax.spines['right'].set_visible(False)\n",
    "ax.set_xscale('log')\n",
    "ax.set_ylim(0,15)\n",
    "plt.xticks(fontsize=30)\n",
    "plt.yticks(fontsize=30)\n",
    "plt.show()"
   ]
  },
  {
   "cell_type": "markdown",
   "id": "written-bishop",
   "metadata": {},
   "source": [
    "### Coherence based split along phi_2"
   ]
  },
  {
   "cell_type": "code",
   "execution_count": null,
   "id": "supreme-modern",
   "metadata": {},
   "outputs": [],
   "source": [
    "st_colors = ['#1F50A3','#D04D49']"
   ]
  },
  {
   "cell_type": "code",
   "execution_count": null,
   "id": "phantom-morocco",
   "metadata": {},
   "outputs": [],
   "source": [
    "P_ensemble = np.load('/Users/gautam.sridhar/Documents/Repos/ZebraBouts/Datasets/Full_Data/P_ensemble_ex8_N1200_s8684.npy')"
   ]
  },
  {
   "cell_type": "code",
   "execution_count": null,
   "id": "irish-export",
   "metadata": {},
   "outputs": [],
   "source": [
    "from scipy.sparse import diags,identity,coo_matrix, csr_matrix\n",
    "P_ensemble = csr_matrix(P_ensemble)"
   ]
  },
  {
   "cell_type": "code",
   "execution_count": null,
   "id": "black-romania",
   "metadata": {},
   "outputs": [],
   "source": [
    "import msmtools.estimation as msm_estimation\n",
    "delay = 3\n",
    "dt = 1\n",
    "print(delay)\n",
    "# lcs_ensemble,P_ensemble = op_calc.transition_matrix(labels_all,delay,return_connected=True)\n",
    "lcs_ensemble = msm_estimation.largest_connected_set(P_ensemble)\n",
    "inv_measure = op_calc.stationary_distribution(P_ensemble)\n",
    "final_labels = op_calc.get_connected_labels(labels_all,lcs_ensemble)\n",
    "R = op_calc.get_reversible_transition_matrix(P_ensemble)\n",
    "eigvals,eigvecs = op_calc.sorted_spectrum(R,k=10,seed=123)\n",
    "sorted_indices = np.argsort(eigvals.real)[::-1]\n",
    "eigvals = eigvals[sorted_indices][1:].real\n",
    "eigvals[np.abs(eigvals-1)<1e-12] = np.nan\n",
    "eigvals[eigvals<1e-12] = np.nan\n",
    "t_imp =  -(delay*dt)/np.log(np.abs(eigvals))\n",
    "eigfunctions = eigvecs.real/np.linalg.norm(eigvecs.real,axis=0)\n",
    "eigfunctions_traj = ma.array(eigfunctions)[final_labels,:]\n",
    "eigfunctions_traj[final_labels.mask] = ma.masked"
   ]
  },
  {
   "cell_type": "code",
   "execution_count": null,
   "id": "compound-induction",
   "metadata": {},
   "outputs": [],
   "source": [
    "phi1 = eigfunctions[:,1]\n",
    "c_range_phi1,rho_sets,measures,split_idx_phi1,coh_labels_phi1 = op_calc.optimal_partition(phi1,inv_measure,P_ensemble,return_rho=True)\n",
    "print(c_range_phi1[split_idx_phi1])"
   ]
  },
  {
   "cell_type": "code",
   "execution_count": null,
   "id": "polyphonic-hobby",
   "metadata": {},
   "outputs": [],
   "source": [
    "plt.figure(figsize=(5,5))\n",
    "for i in range(2):\n",
    "    plt.plot(c_range_phi1,rho_sets[:,i],lw=2)\n",
    "rho_c = np.min(rho_sets,axis=1)\n",
    "plt.scatter(c_range_phi1[split_idx_phi1],rho_c[split_idx_phi1],c='k',marker='x',s=200, zorder=30)\n",
    "plt.axhline(0.5, c='k')\n",
    "plt.xticks(fontsize=12)\n",
    "# plt.savefig('/Users/gautam.sridhar/Documents/ZENITH/Figures/Suppl2/coherence_new.pdf')\n",
    "plt.show()"
   ]
  },
  {
   "cell_type": "markdown",
   "id": "filled-desperate",
   "metadata": {},
   "source": [
    "### Bout types in Cruising-Wandering"
   ]
  },
  {
   "cell_type": "code",
   "execution_count": null,
   "id": "registered-shock",
   "metadata": {},
   "outputs": [],
   "source": [
    "kmeans_labels = coh_labels_phi1"
   ]
  },
  {
   "cell_type": "code",
   "execution_count": null,
   "id": "occasional-literacy",
   "metadata": {},
   "outputs": [],
   "source": [
    "cluster_traj_all = ma.copy(final_labels)\n",
    "cluster_traj_all[~final_labels.mask] = ma.array(kmeans_labels)[final_labels[~final_labels.mask]]\n",
    "cluster_traj_all[final_labels.mask] = ma.masked\n",
    "\n",
    "cluster_fish = cluster_traj_all.reshape(labels_fish.shape[0],labels_fish.shape[1])\n",
    "cluster_fish_mask = cluster_fish.mask"
   ]
  },
  {
   "cell_type": "code",
   "execution_count": null,
   "id": "silent-ottawa",
   "metadata": {},
   "outputs": [],
   "source": [
    "cond_recs = np.arange(463)\n",
    "maxL = np.max(lengths_rem[cond_recs])\n",
    "\n",
    "cluster_fish_condition = cluster_fish[cond_recs,:maxL]\n",
    "\n",
    "cluster_traj = ma.concatenate(cluster_fish_condition, axis=0)\n",
    "print(cluster_fish_condition.shape)"
   ]
  },
  {
   "cell_type": "code",
   "execution_count": null,
   "id": "naked-cyprus",
   "metadata": {},
   "outputs": [],
   "source": [
    "path_to_filtered_data = '/Users/gautam.sridhar/Documents/Repos/ZebraBouts/Datasets/'\n",
    "class_names = np.load(path_to_filtered_data + '/classnames_jm.npy')"
   ]
  },
  {
   "cell_type": "code",
   "execution_count": null,
   "id": "informative-helmet",
   "metadata": {},
   "outputs": [],
   "source": [
    "for i in range(class_names.shape[0]):\n",
    "    print(i+1,class_names[i])"
   ]
  },
  {
   "cell_type": "code",
   "execution_count": null,
   "id": "supreme-sheet",
   "metadata": {},
   "outputs": [],
   "source": [
    "bouttypes_allcond = np.delete(bouttypes_allcond, recs_remove, axis=0)\n",
    "bouttypes_allcond[bouttypes == 15.] = ma.masked"
   ]
  },
  {
   "cell_type": "code",
   "execution_count": null,
   "id": "purple-agency",
   "metadata": {},
   "outputs": [],
   "source": [
    "bouttypes = bouttypes_allcond"
   ]
  },
  {
   "cell_type": "code",
   "execution_count": null,
   "id": "devoted-gibson",
   "metadata": {},
   "outputs": [],
   "source": [
    "ms=2\n",
    "bout_props_recs = np.zeros((end_rec - start_rec, ms,class_names.shape[0]))\n",
    "\n",
    "for ms in np.unique(cluster_traj.compressed()):\n",
    "    for recn in range(cluster_fish_condition.shape[0]):\n",
    "        print(ms, recn)\n",
    "        sel = cluster_fish_condition[recn] == ms\n",
    "        segments = np.where(np.abs(np.diff(np.concatenate([[False], sel, [False]]))))[0].reshape(-1, 2)\n",
    "        for segment in segments:\n",
    "            t0,tf = segment\n",
    "            bouts = bouttypes[recn,t0:tf].astype(int)\n",
    "            for b in bouts:\n",
    "                bout_props_recs[recn,ms,b-1] += 1"
   ]
  },
  {
   "cell_type": "code",
   "execution_count": null,
   "id": "advisory-appeal",
   "metadata": {},
   "outputs": [],
   "source": [
    "state_rats = ma.zeros((end_rec - start_rec,class_names.shape[0], k))\n",
    "for i in range(end_rec - start_rec):\n",
    "#     print(i,bout_props_recs[i])\n",
    "    state_rats[i,:,:] = ((bout_props_recs[i]).T/bout_props_recs[i].sum(axis=1))\n",
    "\n",
    "nanidx = np.where(np.isnan(state_rats))\n",
    "\n",
    "state_rats[nanidx[0],nanidx[1],nanidx[2]] = 0\n",
    "state_rats[nanidx[0],nanidx[1],nanidx[2]] = ma.masked"
   ]
  },
  {
   "cell_type": "code",
   "execution_count": null,
   "id": "based-conference",
   "metadata": {},
   "outputs": [],
   "source": [
    "st_mean = []\n",
    "st_ciu = []\n",
    "st_cil = []\n",
    "for ms in np.unique(cluster_traj.compressed()):\n",
    "    print(ms)\n",
    "    m,cil, ciu = stats.bootstrap(state_rats[:,:,ms],n_times = 1000)\n",
    "    st_mean.append(m)\n",
    "    st_ciu.append(ciu)\n",
    "    st_cil.append(cil)"
   ]
  },
  {
   "cell_type": "code",
   "execution_count": null,
   "id": "pediatric-explanation",
   "metadata": {},
   "outputs": [],
   "source": [
    "fig, ax = plt.subplots(1,1,figsize=(25.,10))\n",
    "# state_rats = (bout_props_recs[5].T)/bout_props_recs[5].sum(axis=1)\n",
    "\n",
    "sort_idx = [7,12,11,4,10,6,8]\n",
    "\n",
    "for ms in [0,1]:\n",
    "    ax.plot(np.arange(len(sort_idx)),st_mean[ms][sort_idx], color='C{}'.format(ms), lw = 10, alpha=0.8)\n",
    "    ax.errorbar(np.arange(len(sort_idx)),st_mean[ms][sort_idx], [st_mean[ms][sort_idx] - st_cil[ms][sort_idx], st_ciu[ms][sort_idx] - st_mean[ms][sort_idx]], \n",
    "                ms=10,fmt='o', capsize=22,capthick=9,  color='C{}'.format(ms), elinewidth = 5)\n",
    "\n",
    "ax.spines['top'].set_visible(False)\n",
    "ax.spines['right'].set_visible(False)\n",
    "# ax.set_xlabel('Bout types',fontsize=40)\n",
    "# ax.set_ylabel('Probability in trajectory',fontsize=40)\n",
    "ax.set_xticks(np.arange(len(sort_idx)))\n",
    "# ax.set_ylim(0,0.4)\n",
    "ax.set_xticklabels(class_names[sort_idx],fontsize=30, rotation=70)\n",
    "# plt.ytick_labels([])\n",
    "# plt.xtick_labels([])\n",
    "# ax.legend(fontsize=30)\n",
    "# plt.savefig('/Users/gautam.sridhar/Documents/ZENITH/Figures/Suppl3/4st_bouttypes.pdf')\n",
    "plt.show()"
   ]
  },
  {
   "cell_type": "markdown",
   "id": "nervous-socket",
   "metadata": {},
   "source": [
    "## 4 state split kinematics"
   ]
  },
  {
   "cell_type": "code",
   "execution_count": null,
   "id": "immediate-speech",
   "metadata": {},
   "outputs": [],
   "source": [
    "st_colors = ['#343B97', '#00B4F0', '#FBDD2B', '#8D2B24']"
   ]
  },
  {
   "cell_type": "code",
   "execution_count": null,
   "id": "minor-novel",
   "metadata": {},
   "outputs": [],
   "source": [
    "kms = np.load('/Users/gautam.sridhar/Documents/Repos/ZebraBouts/Results/pool_ex8_PCs/cg4_labels.npy')"
   ]
  },
  {
   "cell_type": "code",
   "execution_count": null,
   "id": "tough-catch",
   "metadata": {},
   "outputs": [],
   "source": [
    "kmeans_labels = kms"
   ]
  },
  {
   "cell_type": "code",
   "execution_count": null,
   "id": "solid-segment",
   "metadata": {},
   "outputs": [],
   "source": [
    "cluster_traj_all = ma.copy(final_labels)\n",
    "cluster_traj_all[~final_labels.mask] = ma.array(kmeans_labels)[final_labels[~final_labels.mask]]\n",
    "cluster_traj_all[final_labels.mask] = ma.masked\n",
    "cluster_fish = cluster_traj_all.reshape(labels_fish.shape[0],labels_fish.shape[1])\n",
    "cluster_fish_mask = cluster_fish.mask"
   ]
  },
  {
   "cell_type": "code",
   "execution_count": null,
   "id": "lightweight-fancy",
   "metadata": {},
   "outputs": [],
   "source": [
    "cond_recs = np.arange(463)\n",
    "maxL = np.max(lengths_rem[cond_recs])\n",
    "\n",
    "cluster_fish_condition = cluster_fish[cond_recs,:maxL]\n",
    "\n",
    "cluster_traj = ma.concatenate(cluster_fish_condition, axis=0)\n",
    "print(cluster_fish_condition.shape)"
   ]
  },
  {
   "cell_type": "code",
   "execution_count": null,
   "id": "geological-pound",
   "metadata": {},
   "outputs": [],
   "source": [
    "speeds_allcond = np.delete(speeds_allcond, recs_remove, axis=0)\n",
    "speeds_allcond[speeds_allcond == 0.] = ma.masked\n",
    "speeds = np.concatenate(speeds_head_allcond,axis=0)\n",
    "speeds[speeds==0] = ma.masked\n",
    "\n",
    "plt.figure(figsize=(10,10))\n",
    "\n",
    "speed_states = []\n",
    "for ms in np.unique(cluster_traj.compressed()):\n",
    "    sel = cluster_traj == ms\n",
    "    segments = np.where(np.abs(np.diff(np.concatenate([[False], sel, [False]]))))[0].reshape(-1, 2)\n",
    "    avg_speeds = [] \n",
    "    for segment in segments:\n",
    "        bout0,boutf = segment\n",
    "        if boutf - bout0 >= 1:\n",
    "            sp = ma.median(speeds[bout0:boutf], axis=1)\n",
    "            avg_speeds.append(sp)\n",
    "    speed_states.append(ma.hstack(avg_speeds))\n",
    "    plt.hist(ma.hstack(avg_speeds),bins=50,range=(1,200),histtype='step',density=True,alpha=.7,color=st_colors[ms])\n",
    "plt.xlabel('speeds in $cm/sec$',fontsize=40)\n",
    "# plt.yscale('log')\n",
    "plt.yticks(fontsize=30)\n",
    "plt.xticks(fontsize=30)\n",
    "plt.show()"
   ]
  },
  {
   "cell_type": "code",
   "execution_count": null,
   "id": "specified-insertion",
   "metadata": {},
   "outputs": [],
   "source": [
    "fig, ax = plt.subplots(figsize=(12,12))\n",
    "\n",
    "for ms in np.unique(cluster_traj.compressed()):\n",
    "    data = np.hstack(speed_states[ms])\n",
    "    x,y = stats.cumulative_dist(data,(0,500))\n",
    "    y_all = np.array([np.mean(y[x==x_unique]) for x_unique in np.unique(x)])\n",
    "    x_all = np.sort(np.unique(x))\n",
    "    sel = y_all>0\n",
    "    ax.scatter(x_all[sel],1 - y_all[sel],s=5,alpha=1,color=st_colors[ms])\n",
    "# plt.ylim(0,1)\n",
    "# plt.xlim(0,2.2)\n",
    "ax.set_yscale('log')\n",
    "# ax.legend(fontsize=40)\n",
    "ax.set_xlabel(r'Max Speeds in trajectories in cm/sec',fontsize=40)\n",
    "ax.set_ylabel('Complementary CDF',fontsize=40)\n",
    "# plt.title('Average absolute change in heading per bout',fontsize=30)\n",
    "ax.spines['top'].set_visible(False)\n",
    "ax.spines['right'].set_visible(False)\n",
    "plt.xticks(fontsize=30)\n",
    "plt.yticks(fontsize=30)\n",
    "# plt.savefig('Results/Condition0/delta_orientation_cdf.png')"
   ]
  },
  {
   "cell_type": "code",
   "execution_count": null,
   "id": "present-course",
   "metadata": {},
   "outputs": [],
   "source": [
    "speeds_head[speeds_head == 0] = ma.masked\n",
    "\n",
    "speeds_fish = [[],[],[],[],[],[],[],[]]\n",
    "\n",
    "for i, ms in enumerate([0,1,2,3]):\n",
    "    print(ms)\n",
    "    for cf in range(cluster_fish_condition.shape[0]):\n",
    "        sel = cluster_fish_condition[cf] == ms\n",
    "        segments = np.where(np.abs(np.diff(np.concatenate([[False], sel, [False]]))))[0].reshape(-1, 2)\n",
    "        avg_speeds = [] \n",
    "        for segment in segments:\n",
    "            bout0,boutf = segment\n",
    "            if boutf - bout0 > 1:\n",
    "                sp = ma.mean(speeds_head[cf, bout0:boutf], axis=1)\n",
    "                avg_speeds.append(sp)\n",
    "        if len(avg_speeds) != 0:\n",
    "            speeds_fish[i].append(ma.hstack(avg_speeds).compressed())"
   ]
  },
  {
   "cell_type": "code",
   "execution_count": null,
   "id": "standard-tribe",
   "metadata": {},
   "outputs": [],
   "source": [
    "y_ebs_speeds, x_all_speeds = stats.dist_bootstrap(speeds_fish, 0, 4, 4, 10)\n",
    "# print(x_all_speeds)"
   ]
  },
  {
   "cell_type": "code",
   "execution_count": null,
   "id": "smaller-audit",
   "metadata": {},
   "outputs": [],
   "source": [
    "fig,ax = plt.subplots(1,1, figsize=(10,10))\n",
    "\n",
    "for ms in [0,1,2,3]:\n",
    "    ax.plot(x_all_speeds[ms][:-1],1-y_ebs_speeds[ms][:-1,0], color='k', ls='--', alpha=0.7)\n",
    "    ax.fill_between(x_all_speeds[ms][:-1], 1-y_ebs_speeds[ms][:-1,1], 1-y_ebs_speeds[ms][:-1,2], alpha=0.4, color=st_colors[ms])\n",
    "\n",
    "ax.spines['top'].set_visible(False)\n",
    "ax.spines['right'].set_visible(False)\n",
    "# ax.set_yscale('log')\n",
    "# ax.set_xlabel(r'Mean speeds per bout (cm/s)',fontsize=35)\n",
    "# ax.set_ylabel(r'CDF',fontsize= 40)\n",
    "# ax.legend(loc=\"upper left\",bbox_to_anchor=(1.0, 1.05), fontsize=40, ncol=2)\n",
    "# ax.set_xticklabels([])\n",
    "# ax.set_yticklabels([])\n",
    "plt.xticks(fontsize=30)\n",
    "plt.yticks(fontsize=30)\n",
    "# ax.set_xlim(-1,3)\n",
    "ax.set_ylim(1e-4,1)\n",
    "\n",
    "# plt.savefig('/Users/gautam.sridhar/Documents/ZENITH/Figures/Suppl2/RC_speeds.pdf')\n",
    "plt.show()"
   ]
  },
  {
   "cell_type": "markdown",
   "id": "reflected-supervisor",
   "metadata": {},
   "source": [
    "### Bout types in 4 states"
   ]
  },
  {
   "cell_type": "code",
   "execution_count": null,
   "id": "soviet-works",
   "metadata": {},
   "outputs": [],
   "source": [
    "ms=4\n",
    "bout_props_recs = np.zeros((end_rec - start_rec, ms,class_names.shape[0]))\n",
    "\n",
    "for ms in np.unique(cluster_traj.compressed()):\n",
    "    for recn in range(cluster_fish_condition.shape[0]):\n",
    "        print(ms, recn)\n",
    "        sel = cluster_fish_condition[recn] == ms\n",
    "        segments = np.where(np.abs(np.diff(np.concatenate([[False], sel, [False]]))))[0].reshape(-1, 2)\n",
    "        for segment in segments:\n",
    "            t0,tf = segment\n",
    "            bouts = bouttypes[recn,t0:tf].astype(int)\n",
    "            for b in bouts:\n",
    "                bout_props_recs[recn,ms,b-1] += 1"
   ]
  },
  {
   "cell_type": "code",
   "execution_count": null,
   "id": "elect-hierarchy",
   "metadata": {},
   "outputs": [],
   "source": [
    "state_rats = ma.zeros((end_rec - start_rec,class_names.shape[0], k))\n",
    "for i in range(end_rec - start_rec):\n",
    "#     print(i,bout_props_recs[i])\n",
    "    state_rats[i,:,:] = ((bout_props_recs[i]).T/bout_props_recs[i].sum(axis=1))\n",
    "\n",
    "nanidx = np.where(np.isnan(state_rats))\n",
    "\n",
    "state_rats[nanidx[0],nanidx[1],nanidx[2]] = 0\n",
    "state_rats[nanidx[0],nanidx[1],nanidx[2]] = ma.masked"
   ]
  },
  {
   "cell_type": "code",
   "execution_count": null,
   "id": "boring-kelly",
   "metadata": {},
   "outputs": [],
   "source": [
    "st_mean = []\n",
    "st_ciu = []\n",
    "st_cil = []\n",
    "for ms in np.unique(cluster_traj.compressed()):\n",
    "    print(ms)\n",
    "    m,cil, ciu = stats.bootstrap(state_rats[:,:,ms],n_times = 1000)\n",
    "    st_mean.append(m)\n",
    "    st_ciu.append(ciu)\n",
    "    st_cil.append(cil)"
   ]
  },
  {
   "cell_type": "code",
   "execution_count": null,
   "id": "changed-particle",
   "metadata": {},
   "outputs": [],
   "source": [
    "fig, ax = plt.subplots(1,1,figsize=(25.,10))\n",
    "# state_rats = (bout_props_recs[5].T)/bout_props_recs[5].sum(axis=1)\n",
    "\n",
    "sort_idx = [7,12,11,4,10,6,8]\n",
    "\n",
    "for ms in [0,1,2,3]:\n",
    "    ax.plot(np.arange(len(sort_idx)),st_mean[ms][sort_idx], color='C{}'.format(ms), lw = 10, alpha=0.8)\n",
    "    ax.errorbar(np.arange(len(sort_idx)),st_mean[ms][sort_idx], [st_mean[ms][sort_idx] - st_cil[ms][sort_idx], st_ciu[ms][sort_idx] - st_mean[ms][sort_idx]], \n",
    "                ms=10,fmt='o', capsize=22,capthick=9,  color='C{}'.format(ms), elinewidth = 5)\n",
    "\n",
    "ax.spines['top'].set_visible(False)\n",
    "ax.spines['right'].set_visible(False)\n",
    "# ax.set_xlabel('Bout types',fontsize=40)\n",
    "# ax.set_ylabel('Probability in trajectory',fontsize=40)\n",
    "ax.set_xticks(np.arange(len(sort_idx)))\n",
    "# ax.set_ylim(0,0.4)\n",
    "ax.set_xticklabels(class_names[sort_idx],fontsize=30, rotation=70)\n",
    "# plt.ytick_labels([])\n",
    "# plt.xtick_labels([])\n",
    "# ax.legend(fontsize=30)\n",
    "# plt.savefig('/Users/gautam.sridhar/Documents/ZENITH/Figures/Suppl3/4st_bouttypes.pdf')\n",
    "plt.show()"
   ]
  },
  {
   "cell_type": "markdown",
   "id": "graphic-shark",
   "metadata": {},
   "source": [
    "## 7 state split kinematics"
   ]
  },
  {
   "cell_type": "code",
   "execution_count": null,
   "id": "equivalent-sullivan",
   "metadata": {},
   "outputs": [],
   "source": [
    "st_colors = ['#006FB8','#313390','#52C1AF','#00B4F0','#F4BD48','#FBDD2B','#8D2B24']"
   ]
  },
  {
   "cell_type": "code",
   "execution_count": null,
   "id": "victorian-founder",
   "metadata": {},
   "outputs": [],
   "source": [
    "kms = np.load('/Users/gautam.sridhar/Documents/Repos/ZebraBouts/Results/pool_ex8_PCs/cg7_labels.npy')"
   ]
  },
  {
   "cell_type": "code",
   "execution_count": null,
   "id": "portuguese-sally",
   "metadata": {},
   "outputs": [],
   "source": [
    "kmeans_labels = kms"
   ]
  },
  {
   "cell_type": "code",
   "execution_count": null,
   "id": "compatible-postcard",
   "metadata": {},
   "outputs": [],
   "source": [
    "cluster_traj_all = ma.copy(final_labels)\n",
    "cluster_traj_all[~final_labels.mask] = ma.array(kmeans_labels)[final_labels[~final_labels.mask]]\n",
    "cluster_traj_all[final_labels.mask] = ma.masked\n",
    "\n",
    "cluster_fish = cluster_traj_all.reshape(labels_fish.shape[0],labels_fish.shape[1])\n",
    "cluster_fish_mask = cluster_fish.mask"
   ]
  },
  {
   "cell_type": "code",
   "execution_count": null,
   "id": "electric-denver",
   "metadata": {},
   "outputs": [],
   "source": [
    "cond_recs = np.arange(463)\n",
    "maxL = np.max(lengths_rem[cond_recs])\n",
    "\n",
    "cluster_fish_condition = cluster_fish[cond_recs,:maxL]\n",
    "\n",
    "cluster_traj = ma.concatenate(cluster_fish_condition, axis=0)\n",
    "print(cluster_fish_condition.shape)"
   ]
  },
  {
   "cell_type": "code",
   "execution_count": null,
   "id": "remarkable-davis",
   "metadata": {},
   "outputs": [],
   "source": [
    "def break_array(arr):\n",
    "    broken = []\n",
    "    broken_idx = []\n",
    "    element = []\n",
    "    element_idx = []\n",
    "    if len(arr) == 1:\n",
    "        broken.append(arr)\n",
    "        broken_idx.append([0])\n",
    "    else:\n",
    "        for i in range(len(arr)-1):\n",
    "            element.append(arr[i])\n",
    "            element_idx.append(i)\n",
    "            if arr[i+1] != arr[i]:\n",
    "                broken.append(element)\n",
    "                broken_idx.append(element_idx)\n",
    "                element = []\n",
    "                element_idx = []\n",
    "            if i+1 == len(arr)-1:\n",
    "                element.append(arr[i+1])\n",
    "                element_idx.append(i+1)\n",
    "                broken.append(element)\n",
    "                broken_idx.append(element_idx)\n",
    "    return broken, broken_idx"
   ]
  },
  {
   "cell_type": "code",
   "execution_count": null,
   "id": "tight-yemen",
   "metadata": {},
   "outputs": [],
   "source": [
    "# dir_fish = [[],[],[],[]]\n",
    "left_fish = [[],[],[],[],[],[],[],[]]\n",
    "# right_fish = [[],[],[],[]]\n",
    "for cf in range(cluster_fish_condition.shape[0]):\n",
    "    for ks in np.unique(cluster_traj.compressed()):\n",
    "        sel = cluster_fish_condition[cf] == ks\n",
    "        segments = np.where(np.abs(np.diff(np.concatenate([[False], sel, [False]]))))[0].reshape(-1, 2)\n",
    "#         sorted_indices = np.argsort(np.hstack(np.diff(segments,axis=1)))[::-1]\n",
    "        dir_duration = []\n",
    "        lt = []\n",
    "#         rt = []\n",
    "        for segment in segments:\n",
    "            t0,tf = segment\n",
    "            phi_ = ma.diff(phi_smooth[cf, t0:tf,0])\n",
    "            direction_ = np.zeros(len(phi_),dtype=int)\n",
    "            direction_[np.asarray(phi_) >= 0] = 1\n",
    "            direction_[np.asarray(phi_) < 0] = 0\n",
    "            \n",
    "            if len(direction_) > 1:\n",
    "                lt.append(len(direction_[direction_ == 1])/len(direction_))\n",
    "#                 rt.append(1 - len(direction_[direction_ == 1])/len(direction_))\n",
    "\n",
    "            zc_ = ma.diff(direction_)\n",
    "            brok,_ = break_array(zc_)\n",
    "#             for l, m in enumerate(brok):\n",
    "#                 if m[0] == 0:\n",
    "#                     dir_duration.append(len(m))\n",
    "        left_fish[ks].append(lt)\n",
    "#         right_fish[ks].append(rt)\n",
    "#         dir_fish[ks].append(dir_duration)"
   ]
  },
  {
   "cell_type": "code",
   "execution_count": null,
   "id": "unexpected-allergy",
   "metadata": {},
   "outputs": [],
   "source": [
    "def bs(ls, n_times=1000, confiden_interval=95):\n",
    "    per = (100 - confiden_interval)/2\n",
    "    new_means = []\n",
    "    for i in range(n_times):\n",
    "        indices = np.random.choice(range(0,len(ls)), len(ls))\n",
    "        new_list = [ls[idx] for idx in indices]\n",
    "        new_means.append(ma.mean(ma.hstack(new_list)))\n",
    "    new_means = ma.hstack(new_means)\n",
    "    cil = np.nanpercentile(new_means, per)\n",
    "    ciu = np.nanpercentile(new_means, 100-per)\n",
    "    \n",
    "    return ma.mean(ma.hstack(ls)), cil, ciu"
   ]
  },
  {
   "cell_type": "code",
   "execution_count": null,
   "id": "appreciated-radar",
   "metadata": {},
   "outputs": [],
   "source": [
    "fig, ax = plt.subplots(1,1,figsize=(10,10))\n",
    "for ms in range(7):\n",
    "    m, cil, ciu = bs(left_fish[ms], n_times=100)\n",
    "#     ax.scatter(0.08*np.random.randn(ma.hstack(right_fish[ms]).shape[0])+ms, ma.hstack(right_fish[ms]), s=25, alpha=.1, \n",
    "#                color=st_colors[ms])\n",
    "    ax.errorbar(ms, m, [[m - cil],[ciu-m]], ms=2,fmt='o', capsize=15,capthick=5,  color=st_colors[ms], elinewidth = 2)\n",
    "\n",
    "ax.spines['top'].set_visible(False)\n",
    "ax.spines['right'].set_visible(False)\n",
    "ax.set_ylabel(r'Ratio of Left turns',fontsize=40)\n",
    "ax.axhline(0.5,ls='--')\n",
    "plt.xticks(fontsize=30)\n",
    "plt.yticks(fontsize=30)\n",
    "plt.ylim(-0.01,1)\n",
    "# plt.xlim(-1,2)\n",
    "# plt.savefig('/Users/gautam.sridhar/Documents/ZENITH/Figures/Suppl2/7state_pref.pdf')\n",
    "plt.show()"
   ]
  },
  {
   "cell_type": "markdown",
   "id": "numerical-working",
   "metadata": {},
   "source": [
    "## Mean Sequence length and dwell time distributions"
   ]
  },
  {
   "cell_type": "code",
   "execution_count": null,
   "id": "adjacent-output",
   "metadata": {},
   "outputs": [],
   "source": [
    "## 2 states\n",
    "st_colors = ['#1F50A3','#D04D49']"
   ]
  },
  {
   "cell_type": "code",
   "execution_count": null,
   "id": "confirmed-appearance",
   "metadata": {},
   "outputs": [],
   "source": [
    "kmeans_labels = coh_labels_phi1"
   ]
  },
  {
   "cell_type": "code",
   "execution_count": null,
   "id": "comic-float",
   "metadata": {},
   "outputs": [],
   "source": [
    "cluster_traj_all = ma.copy(final_labels)\n",
    "cluster_traj_all[~final_labels.mask] = ma.array(kmeans_labels)[final_labels[~final_labels.mask]]\n",
    "cluster_traj_all[final_labels.mask] = ma.masked\n",
    "\n",
    "# cluster_fish = cluster_traj_all.reshape(12,4836)\n",
    "cluster_fish = cluster_traj_all.reshape(labels_fish.shape[0],labels_fish.shape[1])\n",
    "cluster_fish_mask = cluster_fish.mask\n",
    "# dtrajs_fish_ = distort_traj.reshape(labels_fish.shape[0],labels_fish.shape[1])"
   ]
  },
  {
   "cell_type": "code",
   "execution_count": null,
   "id": "mental-sleeping",
   "metadata": {},
   "outputs": [],
   "source": [
    "cond_recs = np.arange(463)\n",
    "maxL = np.max(lengths_rem[cond_recs])\n",
    "\n",
    "cluster_fish_condition = cluster_fish[cond_recs,:maxL]\n",
    "\n",
    "cluster_traj = ma.concatenate(cluster_fish_condition, axis=0)\n",
    "print(cluster_fish_condition.shape)\n",
    "# cluster_traj = cluster_traj_all"
   ]
  },
  {
   "cell_type": "code",
   "execution_count": null,
   "id": "contained-ghost",
   "metadata": {},
   "outputs": [],
   "source": [
    "lifetimes_fish = [[],[],[],[],[],[],[],[]]\n",
    "for cf in range(cluster_fish_condition.shape[0]):\n",
    "    data_lifetimes, state_labels = stats.state_lifetime(cluster_fish_condition[cf],dt)\n",
    "    for k,ks in enumerate(state_labels):\n",
    "        if len(state_labels) == 1:\n",
    "            print(len(lifetimes_fish[ks]),ks)\n",
    "        lifetimes_fish[ks].append(data_lifetimes[k])"
   ]
  },
  {
   "cell_type": "code",
   "execution_count": null,
   "id": "mysterious-finger",
   "metadata": {},
   "outputs": [],
   "source": [
    "fig, ax = plt.subplots(1,1,figsize=(10,10))\n",
    "for ms in range(2):\n",
    "    m = ma.mean(ma.hstack(lifetimes_fish[ms]))\n",
    "    cil = np.nanpercentile(ma.hstack(lifetimes_fish[ms]),2.5,axis=0)\n",
    "    ciu = np.nanpercentile(ma.hstack(lifetimes_fish[ms]),97.5,axis=0)\n",
    "    ax.scatter(0.08*np.random.randn(ma.hstack(lifetimes_fish[ms]).shape[0])+ms, ma.hstack(lifetimes_fish[ms]), s=100, alpha=.2, \n",
    "               color='grey', label = r'Mean Duration$_{} = {}$ Bouts ({},{})'.format(ms, round(m,2), round(cil,2), round(ciu,2)))\n",
    "    ax.errorbar(ms, m, [[m - cil],[ciu-m]], ms=15,fmt='o', capsize=22,capthick=9,  color=st_colors[ms], elinewidth = 5)\n",
    "\n",
    "ax.spines['top'].set_visible(False)\n",
    "ax.spines['right'].set_visible(False)\n",
    "ax.set_ylabel(r'Dwell times (bouts)',fontsize=40)\n",
    "ax.legend(loc=\"upper left\",bbox_to_anchor=(1.1, 1.05), fontsize=35)\n",
    "plt.xticks(fontsize=30)\n",
    "plt.yticks(fontsize=30)\n",
    "plt.ylim(-1,100)\n",
    "# plt.xlim(-1,2)\n",
    "\n",
    "# plt.savefig('Results/Condition1/state_bout_dwelltime.png')\n",
    "plt.show()"
   ]
  },
  {
   "cell_type": "code",
   "execution_count": null,
   "id": "altered-heating",
   "metadata": {},
   "outputs": [],
   "source": [
    "y_errorbar_metastate, x_all_metastate, m_all_metastate, b_all_metastate, tscales_metastate, params_metastate, mean_lifetimes = stats.state_lifetimes_stats(lifetimes_fish, n_states=2)"
   ]
  },
  {
   "cell_type": "code",
   "execution_count": null,
   "id": "incoming-blackjack",
   "metadata": {},
   "outputs": [],
   "source": [
    "fig,ax = plt.subplots(1,1, figsize=(12.5,12.5))\n",
    "t0,tf=1,600\n",
    "xrange = np.linspace(t0,tf,160)\n",
    "for ms in [0,1]:\n",
    "    print(ms)\n",
    "\n",
    "    mean = y_errorbar_metastate[ms][:-1,0]\n",
    "    cil = y_errorbar_metastate[ms][:-1,1]\n",
    "    ciu = y_errorbar_metastate[ms][:-1,2]\n",
    "    \n",
    "    params_cil = params_metastate[ms][0]\n",
    "    params_ciu = params_metastate[ms][1]\n",
    "    \n",
    "    ax.errorbar(x_all_metastate[ms][:-1], mean,[mean-cil, ciu - mean],ms=15 ,fmt='.', capsize=10, color = st_colors[ms], alpha=0.6)\n",
    "#     ax.fill_between(x_all_metastate[ms][:-1], y_errorbar_metastate[ms][:-1,1], y_errorbar_metastate[ms][:-1,2], alpha=0.2, color=st_colors[ms])\n",
    "\n",
    "ax.spines['top'].set_visible(False)\n",
    "ax.spines['right'].set_visible(False)\n",
    "ax.set_yscale('log')\n",
    "plt.xticks(fontsize=30)\n",
    "plt.yticks(fontsize=30)\n",
    "# ax.set_xlim(-1,400)\n",
    "ax.set_ylim(1e-6,1)\n",
    "plt.tight_layout()\n"
   ]
  },
  {
   "cell_type": "code",
   "execution_count": null,
   "id": "reasonable-principal",
   "metadata": {},
   "outputs": [],
   "source": [
    "## 4 states\n",
    "st_colors = ['#343B97', '#00B4F0', '#FBDD2B', '#8D2B24']"
   ]
  },
  {
   "cell_type": "code",
   "execution_count": null,
   "id": "cognitive-vegetation",
   "metadata": {},
   "outputs": [],
   "source": [
    "kmeans_labels = np.load('/Users/gautam.sridhar/Documents/Repos/ZebraBouts/Results/pool_ex8_PCs/cg4_labels.npy')"
   ]
  },
  {
   "cell_type": "code",
   "execution_count": null,
   "id": "romance-indian",
   "metadata": {},
   "outputs": [],
   "source": [
    "cluster_traj_all = ma.copy(final_labels)\n",
    "cluster_traj_all[~final_labels.mask] = ma.array(kmeans_labels)[final_labels[~final_labels.mask]]\n",
    "cluster_traj_all[final_labels.mask] = ma.masked\n",
    "\n",
    "# cluster_fish = cluster_traj_all.reshape(12,4836)\n",
    "cluster_fish = cluster_traj_all.reshape(labels_fish.shape[0],labels_fish.shape[1])\n",
    "cluster_fish_mask = cluster_fish.mask\n",
    "# dtrajs_fish_ = distort_traj.reshape(labels_fish.shape[0],labels_fish.shape[1])"
   ]
  },
  {
   "cell_type": "code",
   "execution_count": null,
   "id": "waiting-glucose",
   "metadata": {},
   "outputs": [],
   "source": [
    "cond_recs = np.arange(463)\n",
    "maxL = np.max(lengths_rem[cond_recs])\n",
    "\n",
    "cluster_fish_condition = cluster_fish[cond_recs,:maxL]\n",
    "\n",
    "cluster_traj = ma.concatenate(cluster_fish_condition, axis=0)\n",
    "print(cluster_fish_condition.shape)\n",
    "# cluster_traj = cluster_traj_all"
   ]
  },
  {
   "cell_type": "code",
   "execution_count": null,
   "id": "sweet-princess",
   "metadata": {},
   "outputs": [],
   "source": [
    "lifetimes_fish = [[],[],[],[],[],[],[],[]]\n",
    "for cf in range(cluster_fish_condition.shape[0]):\n",
    "    data_lifetimes, state_labels = stats.state_lifetime(cluster_fish_condition[cf],dt)\n",
    "    for k,ks in enumerate(state_labels):\n",
    "        if len(state_labels) == 1:\n",
    "            print(len(lifetimes_fish[ks]),ks)\n",
    "        lifetimes_fish[ks].append(data_lifetimes[k])"
   ]
  },
  {
   "cell_type": "code",
   "execution_count": null,
   "id": "phantom-musical",
   "metadata": {},
   "outputs": [],
   "source": [
    "fig, ax = plt.subplots(1,1,figsize=(10,10))\n",
    "for ms in range(4):\n",
    "    m = ma.mean(ma.hstack(lifetimes_fish[ms]))\n",
    "    cil = np.nanpercentile(ma.hstack(lifetimes_fish[ms]),2.5,axis=0)\n",
    "    ciu = np.nanpercentile(ma.hstack(lifetimes_fish[ms]),97.5,axis=0)\n",
    "    ax.scatter(0.08*np.random.randn(ma.hstack(lifetimes_fish[ms]).shape[0])+ms, ma.hstack(lifetimes_fish[ms]), s=100, alpha=.2, \n",
    "               color='grey', label = r'Mean Duration$_{} = {}$ Bouts ({},{})'.format(ms, round(m,2), round(cil,2), round(ciu,2)))\n",
    "    ax.errorbar(ms, m, [[m - cil],[ciu-m]], ms=15,fmt='o', capsize=22,capthick=9,  color=st_colors[ms], elinewidth = 5)\n",
    "\n",
    "ax.spines['top'].set_visible(False)\n",
    "ax.spines['right'].set_visible(False)\n",
    "ax.set_ylabel(r'Dwell times (bouts)',fontsize=40)\n",
    "ax.legend(loc=\"upper left\",bbox_to_anchor=(1.1, 1.05), fontsize=35)\n",
    "plt.xticks(fontsize=30)\n",
    "plt.yticks(fontsize=30)\n",
    "plt.ylim(-1,100)\n",
    "# plt.xlim(-1,2)\n",
    "\n",
    "# plt.savefig('Results/Condition1/state_bout_dwelltime.png')\n",
    "plt.show()"
   ]
  },
  {
   "cell_type": "code",
   "execution_count": null,
   "id": "stuffed-knife",
   "metadata": {},
   "outputs": [],
   "source": [
    "y_errorbar_metastate, x_all_metastate, m_all_metastate, b_all_metastate, tscales_metastate, params_metastate, mean_lifetimes = stats.state_lifetimes_stats(lifetimes_fish, n_states=4)"
   ]
  },
  {
   "cell_type": "code",
   "execution_count": null,
   "id": "palestinian-memorial",
   "metadata": {},
   "outputs": [],
   "source": [
    "fig,ax = plt.subplots(1,1, figsize=(12.5,12.5))\n",
    "t0,tf=1,600\n",
    "xrange = np.linspace(t0,tf,160)\n",
    "for ms in [0,1,2,3]:\n",
    "    print(ms)\n",
    "\n",
    "    mean = y_errorbar_metastate[ms][:-1,0]\n",
    "    cil = y_errorbar_metastate[ms][:-1,1]\n",
    "    ciu = y_errorbar_metastate[ms][:-1,2]\n",
    "    \n",
    "    params_cil = params_metastate[ms][0]\n",
    "    params_ciu = params_metastate[ms][1]\n",
    "    \n",
    "    ax.errorbar(x_all_metastate[ms][:-1], mean,[mean-cil, ciu - mean],ms=15 ,fmt='.', capsize=10, color = st_colors[ms], alpha=0.6)\n",
    "#     ax.fill_between(x_all_metastate[ms][:-1], y_errorbar_metastate[ms][:-1,1], y_errorbar_metastate[ms][:-1,2], alpha=0.2, color=st_colors[ms])\n",
    "\n",
    "ax.spines['top'].set_visible(False)\n",
    "ax.spines['right'].set_visible(False)\n",
    "ax.set_yscale('log')\n",
    "plt.xticks(fontsize=30)\n",
    "plt.yticks(fontsize=30)\n",
    "# ax.set_xlim(-1,400)\n",
    "ax.set_ylim(1e-6,1)\n",
    "plt.tight_layout()\n"
   ]
  },
  {
   "cell_type": "code",
   "execution_count": null,
   "id": "numerical-darwin",
   "metadata": {},
   "outputs": [],
   "source": [
    "## 7 states\n",
    "st_colors = ['#006FB8','#313390','#52C1AF','#00B4F0','#F4BD48','#FBDD2B','#8D2B24']"
   ]
  },
  {
   "cell_type": "code",
   "execution_count": null,
   "id": "domestic-python",
   "metadata": {},
   "outputs": [],
   "source": [
    "kmeans_labels = np.load('/Users/gautam.sridhar/Documents/Repos/ZebraBouts/Results/pool_ex8_PCs/cg7_labels.npy')"
   ]
  },
  {
   "cell_type": "code",
   "execution_count": null,
   "id": "connected-uruguay",
   "metadata": {},
   "outputs": [],
   "source": [
    "cluster_traj_all = ma.copy(final_labels)\n",
    "cluster_traj_all[~final_labels.mask] = ma.array(kmeans_labels)[final_labels[~final_labels.mask]]\n",
    "cluster_traj_all[final_labels.mask] = ma.masked\n",
    "\n",
    "# cluster_fish = cluster_traj_all.reshape(12,4836)\n",
    "cluster_fish = cluster_traj_all.reshape(labels_fish.shape[0],labels_fish.shape[1])\n",
    "cluster_fish_mask = cluster_fish.mask\n",
    "# dtrajs_fish_ = distort_traj.reshape(labels_fish.shape[0],labels_fish.shape[1])"
   ]
  },
  {
   "cell_type": "code",
   "execution_count": null,
   "id": "material-tracy",
   "metadata": {},
   "outputs": [],
   "source": [
    "cond_recs = np.arange(463)\n",
    "maxL = np.max(lengths_rem[cond_recs])\n",
    "\n",
    "cluster_fish_condition = cluster_fish[cond_recs,:maxL]\n",
    "\n",
    "cluster_traj = ma.concatenate(cluster_fish_condition, axis=0)\n",
    "print(cluster_fish_condition.shape)\n",
    "# cluster_traj = cluster_traj_all"
   ]
  },
  {
   "cell_type": "code",
   "execution_count": null,
   "id": "assigned-momentum",
   "metadata": {},
   "outputs": [],
   "source": [
    "lifetimes_fish = [[],[],[],[],[],[],[],[]]\n",
    "for cf in range(cluster_fish_condition.shape[0]):\n",
    "    data_lifetimes, state_labels = stats.state_lifetime(cluster_fish_condition[cf],dt)\n",
    "    for k,ks in enumerate(state_labels):\n",
    "        if len(state_labels) == 1:\n",
    "            print(len(lifetimes_fish[ks]),ks)\n",
    "        lifetimes_fish[ks].append(data_lifetimes[k])"
   ]
  },
  {
   "cell_type": "code",
   "execution_count": null,
   "id": "criminal-conducting",
   "metadata": {},
   "outputs": [],
   "source": [
    "fig, ax = plt.subplots(1,1,figsize=(10,10))\n",
    "for ms in range(7):\n",
    "    m = ma.mean(ma.hstack(lifetimes_fish[ms]))\n",
    "    cil = np.nanpercentile(ma.hstack(lifetimes_fish[ms]),2.5,axis=0)\n",
    "    ciu = np.nanpercentile(ma.hstack(lifetimes_fish[ms]),97.5,axis=0)\n",
    "    ax.scatter(0.08*np.random.randn(ma.hstack(lifetimes_fish[ms]).shape[0])+ms, ma.hstack(lifetimes_fish[ms]), s=100, alpha=.2, \n",
    "               color='grey', label = r'Mean Duration$_{} = {}$ Bouts ({},{})'.format(ms, round(m,2), round(cil,2), round(ciu,2)))\n",
    "    ax.errorbar(ms, m, [[m - cil],[ciu-m]], ms=15,fmt='o', capsize=22,capthick=9,  color='C{}'.format(ms), elinewidth = 5)\n",
    "\n",
    "ax.spines['top'].set_visible(False)\n",
    "ax.spines['right'].set_visible(False)\n",
    "ax.set_ylabel(r'Dwell times (bouts)',fontsize=40)\n",
    "ax.legend(loc=\"upper left\",bbox_to_anchor=(1.1, 1.05), fontsize=35)\n",
    "plt.xticks(fontsize=30)\n",
    "plt.yticks(fontsize=30)\n",
    "plt.ylim(-1,100)\n",
    "# plt.xlim(-1,2)\n",
    "\n",
    "# plt.savefig('Results/Condition1/state_bout_dwelltime.png')\n",
    "plt.show()"
   ]
  },
  {
   "cell_type": "code",
   "execution_count": null,
   "id": "eleven-fiction",
   "metadata": {},
   "outputs": [],
   "source": [
    "y_errorbar_metastate, x_all_metastate, m_all_metastate, b_all_metastate, tscales_metastate, params_metastate, mean_lifetimes = stats.state_lifetimes_stats(lifetimes_fish, n_states=7)"
   ]
  },
  {
   "cell_type": "code",
   "execution_count": null,
   "id": "excessive-pointer",
   "metadata": {},
   "outputs": [],
   "source": [
    "fig,ax = plt.subplots(1,1, figsize=(12.5,12.5))\n",
    "t0,tf=1,600\n",
    "xrange = np.linspace(t0,tf,160)\n",
    "for ms in [0,1,2,3,4,5,6]:\n",
    "    print(ms)\n",
    "\n",
    "    mean = y_errorbar_metastate[ms][:-1,0]\n",
    "    cil = y_errorbar_metastate[ms][:-1,1]\n",
    "    ciu = y_errorbar_metastate[ms][:-1,2]\n",
    "    \n",
    "    params_cil = params_metastate[ms][0]\n",
    "    params_ciu = params_metastate[ms][1]\n",
    "    \n",
    "    ax.errorbar(x_all_metastate[ms][:-1], mean,[mean-cil, ciu - mean],ms=15 ,fmt='.', capsize=10, color = st_colors[ms], alpha=0.6)\n",
    "#     ax.fill_between(x_all_metastate[ms][:-1], y_errorbar_metastate[ms][:-1,1], y_errorbar_metastate[ms][:-1,2], alpha=0.2, color=st_colors[ms])\n",
    "\n",
    "ax.spines['top'].set_visible(False)\n",
    "ax.spines['right'].set_visible(False)\n",
    "ax.set_yscale('log')\n",
    "plt.xticks(fontsize=30)\n",
    "plt.yticks(fontsize=30)\n",
    "# ax.set_xlim(-1,400)\n",
    "ax.set_ylim(1e-6,1)\n",
    "plt.tight_layout()"
   ]
  },
  {
   "cell_type": "markdown",
   "id": "acting-fundamentals",
   "metadata": {},
   "source": [
    "## Inter-Bout intervals along long-lived modes"
   ]
  },
  {
   "cell_type": "code",
   "execution_count": null,
   "id": "structured-senior",
   "metadata": {},
   "outputs": [],
   "source": [
    "split_locs = []\n",
    "distorted_eigfs = np.zeros((eigfunctions.shape[0], eigfunctions.shape[1]-1))\n",
    "for i in range(1,eigfunctions.shape[1]):\n",
    "    phi = eigfunctions[:,i]\n",
    "    _,_,_,split_idx,_ = op_calc.optimal_partition(phi,inv_measure,P_ensemble,return_rho=True)\n",
    "\n",
    "    sort_range = np.sort(phi)\n",
    "    neg_range = np.linspace(-1,0, len(sort_range[0:split_idx]))\n",
    "    pos_range = np.linspace(0,1,len(sort_range[split_idx:]))\n",
    "    distort_r = np.hstack([neg_range,pos_range])\n",
    "    distort = np.zeros(phi.shape)\n",
    "\n",
    "    pos = [np.where(phi == a)[0][0] for a in np.sort(phi)]\n",
    "\n",
    "    for j in range(phi.shape[0]):\n",
    "        distort[pos[j]] = distort_r[j]\n",
    "\n",
    "    distorted_eigfs[:,i-1] = distort\n",
    "    split_locs.append(split_idx)"
   ]
  },
  {
   "cell_type": "code",
   "execution_count": null,
   "id": "convenient-basics",
   "metadata": {},
   "outputs": [],
   "source": [
    "time_Bout_allcond = np.delete(time_Bout_allcond,recs_remove, axis=0)\n",
    "time_Bout_allcond[time_Bout_allcond == 0] = ma.masked"
   ]
  },
  {
   "cell_type": "code",
   "execution_count": null,
   "id": "premier-reason",
   "metadata": {},
   "outputs": [],
   "source": [
    "#IBI calculation\n",
    "\n",
    "ibi_fish = (time_Bout_allcond[:,1:,0]-time_Bout_allcond[:,:-1,1])/700.\n",
    "ibi_fish2 = ma.zeros(labels_fish[:].shape)\n",
    "ibi_fish2[:,1:] = ibi_fish\n",
    "ibi_fish2[:,0] = ma.masked\n",
    "ibi_all = ma.concatenate(ibi_fish2, axis=0)\n",
    "\n",
    "# ibis_embed = embed.trajectory_matrix(ibi_all[:,np.newaxis], K=4)"
   ]
  },
  {
   "cell_type": "code",
   "execution_count": null,
   "id": "italian-layer",
   "metadata": {},
   "outputs": [],
   "source": [
    "ibi_labels = []\n",
    "\n",
    "ibi_labels = np.asarray([ma.median(ibi_all[ma.concatenate(labels_fish[:,:maxL],axis=0)==kl]) \n",
    "                         for kl in range(1200)])"
   ]
  },
  {
   "cell_type": "code",
   "execution_count": null,
   "id": "decent-lebanon",
   "metadata": {},
   "outputs": [],
   "source": [
    "phi_1 = distorted_eigfs[:,0]\n",
    "phi_2 = distorted_eigfs[:,1]\n",
    "phi_3 = distorted_eigfs[:,2]"
   ]
  },
  {
   "cell_type": "code",
   "execution_count": null,
   "id": "scheduled-mapping",
   "metadata": {},
   "outputs": [],
   "source": [
    "## Kinetic Maps with diffusion distances\n",
    "fig, ax = plt.subplots(1,1,figsize=(12,10))\n",
    "\n",
    "im = ax.scatter(phi_1[:],ibi_labels,s=200,c='grey')\n",
    "fig.colorbar(im)\n",
    "ax.set_ylim(0,1.0)\n",
    "\n",
    "ax.spines['top'].set_visible(False)\n",
    "ax.spines['right'].set_visible(False)\n",
    "# ax.axis('off')\n",
    "# \n",
    "# plt.savefig('/Users/gautam.sridhar/Documents/ZENITH/Figures/Fig2/phi1_phi2_speed.pdf')\n"
   ]
  },
  {
   "cell_type": "code",
   "execution_count": null,
   "id": "compound-disposition",
   "metadata": {},
   "outputs": [],
   "source": [
    "## Kinetic Maps with diffusion distances\n",
    "fig, ax = plt.subplots(1,1,figsize=(12,10))\n",
    "\n",
    "im = ax.scatter(phi_2[:],ibi_labels,s=200,c='grey')\n",
    "fig.colorbar(im)\n",
    "ax.set_ylim(0,1.0)\n",
    "\n",
    "ax.spines['top'].set_visible(False)\n",
    "ax.spines['right'].set_visible(False)\n",
    "# ax.axis('off')\n",
    "# \n",
    "# plt.savefig('/Users/gautam.sridhar/Documents/ZENITH/Figures/Fig2/phi1_phi2_speed.pdf')\n"
   ]
  },
  {
   "cell_type": "code",
   "execution_count": null,
   "id": "dynamic-maximum",
   "metadata": {},
   "outputs": [],
   "source": [
    "## Kinetic Maps with diffusion distances\n",
    "fig, ax = plt.subplots(1,1,figsize=(12,10))\n",
    "\n",
    "im = ax.scatter(phi_3[:],ibi_labels,s=200,c='grey')\n",
    "fig.colorbar(im)\n",
    "ax.set_ylim(0,1.0)\n",
    "\n",
    "ax.spines['top'].set_visible(False)\n",
    "ax.spines['right'].set_visible(False)\n",
    "# ax.axis('off')\n",
    "# \n",
    "# plt.savefig('/Users/gautam.sridhar/Documents/ZENITH/Figures/Fig2/phi1_phi2_speed.pdf')"
   ]
  }
 ],
 "metadata": {
  "kernelspec": {
   "display_name": "Python 3",
   "language": "python",
   "name": "python3"
  },
  "language_info": {
   "codemirror_mode": {
    "name": "ipython",
    "version": 3
   },
   "file_extension": ".py",
   "mimetype": "text/x-python",
   "name": "python",
   "nbconvert_exporter": "python",
   "pygments_lexer": "ipython3",
   "version": "3.8.2"
  }
 },
 "nbformat": 4,
 "nbformat_minor": 5
}
